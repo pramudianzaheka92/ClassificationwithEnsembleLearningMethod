{
 "cells": [
  {
   "cell_type": "markdown",
   "id": "d9d20471",
   "metadata": {},
   "source": [
    "## 1. Import Libraries for Classifying Data with Algorithms and Load Dataset"
   ]
  },
  {
   "cell_type": "code",
   "execution_count": 1,
   "id": "283514e2",
   "metadata": {},
   "outputs": [],
   "source": [
    "\"\"\"\n",
    "Meng-import beberapa library dari bahasa pemrograman python yang bertujuan untuk melakukan\n",
    "tahap pembagian data menjadi training dan testing, normalisasi data serta pemodelan dengan beberapa Algoritma Machine Learning\n",
    "\"\"\"\n",
    "import pandas as pd\n",
    "import numpy as np\n",
    "import seaborn as sns\n",
    "import matplotlib.pyplot as plt\n",
    "plt.style.use(\"fast\")\n",
    "import warnings\n",
    "warnings.filterwarnings(\"ignore\")\n",
    "from sklearn.linear_model import LogisticRegression\n",
    "from sklearn.model_selection import train_test_split, GridSearchCV\n",
    "from sklearn import tree\n",
    "from sklearn.tree import DecisionTreeClassifier\n",
    "from sklearn.preprocessing import StandardScaler, MinMaxScaler\n",
    "from sklearn.svm import SVC\n",
    "from sklearn.neighbors import KNeighborsClassifier\n",
    "from sklearn.naive_bayes import GaussianNB\n",
    "from sklearn.metrics import accuracy_score, recall_score, precision_score, f1_score, confusion_matrix, classification_report"
   ]
  },
  {
   "cell_type": "code",
   "execution_count": 2,
   "id": "a3431d44",
   "metadata": {},
   "outputs": [
    {
     "data": {
      "text/html": [
       "<div>\n",
       "<style scoped>\n",
       "    .dataframe tbody tr th:only-of-type {\n",
       "        vertical-align: middle;\n",
       "    }\n",
       "\n",
       "    .dataframe tbody tr th {\n",
       "        vertical-align: top;\n",
       "    }\n",
       "\n",
       "    .dataframe thead th {\n",
       "        text-align: right;\n",
       "    }\n",
       "</style>\n",
       "<table border=\"1\" class=\"dataframe\">\n",
       "  <thead>\n",
       "    <tr style=\"text-align: right;\">\n",
       "      <th></th>\n",
       "      <th>Hematocrit</th>\n",
       "      <th>Hemoglobin</th>\n",
       "      <th>Erythrocyte</th>\n",
       "      <th>Leucocyte</th>\n",
       "      <th>Thrombocyte</th>\n",
       "      <th>Mch</th>\n",
       "      <th>Mchc</th>\n",
       "      <th>Mcv</th>\n",
       "      <th>Age</th>\n",
       "      <th>Sex</th>\n",
       "      <th>Status</th>\n",
       "    </tr>\n",
       "  </thead>\n",
       "  <tbody>\n",
       "    <tr>\n",
       "      <th>0</th>\n",
       "      <td>35.1</td>\n",
       "      <td>11.8</td>\n",
       "      <td>4.65</td>\n",
       "      <td>6.3</td>\n",
       "      <td>310</td>\n",
       "      <td>25.4</td>\n",
       "      <td>33.6</td>\n",
       "      <td>75.5</td>\n",
       "      <td>1</td>\n",
       "      <td>0</td>\n",
       "      <td>1</td>\n",
       "    </tr>\n",
       "    <tr>\n",
       "      <th>1</th>\n",
       "      <td>43.5</td>\n",
       "      <td>14.8</td>\n",
       "      <td>5.39</td>\n",
       "      <td>12.7</td>\n",
       "      <td>334</td>\n",
       "      <td>27.5</td>\n",
       "      <td>34.0</td>\n",
       "      <td>80.7</td>\n",
       "      <td>1</td>\n",
       "      <td>0</td>\n",
       "      <td>1</td>\n",
       "    </tr>\n",
       "    <tr>\n",
       "      <th>2</th>\n",
       "      <td>33.5</td>\n",
       "      <td>11.3</td>\n",
       "      <td>4.74</td>\n",
       "      <td>13.2</td>\n",
       "      <td>305</td>\n",
       "      <td>23.8</td>\n",
       "      <td>33.7</td>\n",
       "      <td>70.7</td>\n",
       "      <td>1</td>\n",
       "      <td>0</td>\n",
       "      <td>1</td>\n",
       "    </tr>\n",
       "    <tr>\n",
       "      <th>3</th>\n",
       "      <td>39.1</td>\n",
       "      <td>13.7</td>\n",
       "      <td>4.98</td>\n",
       "      <td>10.5</td>\n",
       "      <td>366</td>\n",
       "      <td>27.5</td>\n",
       "      <td>35.0</td>\n",
       "      <td>78.5</td>\n",
       "      <td>1</td>\n",
       "      <td>0</td>\n",
       "      <td>1</td>\n",
       "    </tr>\n",
       "    <tr>\n",
       "      <th>4</th>\n",
       "      <td>30.9</td>\n",
       "      <td>9.9</td>\n",
       "      <td>4.23</td>\n",
       "      <td>22.1</td>\n",
       "      <td>333</td>\n",
       "      <td>23.4</td>\n",
       "      <td>32.0</td>\n",
       "      <td>73.0</td>\n",
       "      <td>1</td>\n",
       "      <td>1</td>\n",
       "      <td>1</td>\n",
       "    </tr>\n",
       "    <tr>\n",
       "      <th>5</th>\n",
       "      <td>34.3</td>\n",
       "      <td>11.6</td>\n",
       "      <td>4.53</td>\n",
       "      <td>6.6</td>\n",
       "      <td>185</td>\n",
       "      <td>25.6</td>\n",
       "      <td>33.8</td>\n",
       "      <td>75.7</td>\n",
       "      <td>1</td>\n",
       "      <td>1</td>\n",
       "      <td>1</td>\n",
       "    </tr>\n",
       "    <tr>\n",
       "      <th>6</th>\n",
       "      <td>31.1</td>\n",
       "      <td>8.7</td>\n",
       "      <td>5.06</td>\n",
       "      <td>11.1</td>\n",
       "      <td>416</td>\n",
       "      <td>17.2</td>\n",
       "      <td>28.0</td>\n",
       "      <td>61.5</td>\n",
       "      <td>1</td>\n",
       "      <td>0</td>\n",
       "      <td>1</td>\n",
       "    </tr>\n",
       "    <tr>\n",
       "      <th>7</th>\n",
       "      <td>40.3</td>\n",
       "      <td>13.3</td>\n",
       "      <td>4.73</td>\n",
       "      <td>8.1</td>\n",
       "      <td>257</td>\n",
       "      <td>28.1</td>\n",
       "      <td>33.0</td>\n",
       "      <td>85.2</td>\n",
       "      <td>1</td>\n",
       "      <td>0</td>\n",
       "      <td>1</td>\n",
       "    </tr>\n",
       "    <tr>\n",
       "      <th>8</th>\n",
       "      <td>33.6</td>\n",
       "      <td>11.5</td>\n",
       "      <td>4.54</td>\n",
       "      <td>11.4</td>\n",
       "      <td>262</td>\n",
       "      <td>25.3</td>\n",
       "      <td>34.2</td>\n",
       "      <td>74.0</td>\n",
       "      <td>1</td>\n",
       "      <td>0</td>\n",
       "      <td>1</td>\n",
       "    </tr>\n",
       "    <tr>\n",
       "      <th>9</th>\n",
       "      <td>35.4</td>\n",
       "      <td>11.4</td>\n",
       "      <td>4.80</td>\n",
       "      <td>2.6</td>\n",
       "      <td>183</td>\n",
       "      <td>23.8</td>\n",
       "      <td>32.2</td>\n",
       "      <td>73.8</td>\n",
       "      <td>1</td>\n",
       "      <td>0</td>\n",
       "      <td>1</td>\n",
       "    </tr>\n",
       "    <tr>\n",
       "      <th>10</th>\n",
       "      <td>33.7</td>\n",
       "      <td>11.5</td>\n",
       "      <td>4.57</td>\n",
       "      <td>13.2</td>\n",
       "      <td>322</td>\n",
       "      <td>25.2</td>\n",
       "      <td>34.1</td>\n",
       "      <td>73.7</td>\n",
       "      <td>1</td>\n",
       "      <td>1</td>\n",
       "      <td>1</td>\n",
       "    </tr>\n",
       "    <tr>\n",
       "      <th>11</th>\n",
       "      <td>54.0</td>\n",
       "      <td>16.6</td>\n",
       "      <td>7.61</td>\n",
       "      <td>10.0</td>\n",
       "      <td>88</td>\n",
       "      <td>21.8</td>\n",
       "      <td>30.7</td>\n",
       "      <td>71.0</td>\n",
       "      <td>1</td>\n",
       "      <td>0</td>\n",
       "      <td>0</td>\n",
       "    </tr>\n",
       "    <tr>\n",
       "      <th>12</th>\n",
       "      <td>31.7</td>\n",
       "      <td>10.4</td>\n",
       "      <td>4.91</td>\n",
       "      <td>9.7</td>\n",
       "      <td>348</td>\n",
       "      <td>21.2</td>\n",
       "      <td>32.8</td>\n",
       "      <td>64.6</td>\n",
       "      <td>1</td>\n",
       "      <td>1</td>\n",
       "      <td>0</td>\n",
       "    </tr>\n",
       "  </tbody>\n",
       "</table>\n",
       "</div>"
      ],
      "text/plain": [
       "    Hematocrit  Hemoglobin  Erythrocyte  Leucocyte  Thrombocyte   Mch  Mchc  \\\n",
       "0         35.1        11.8         4.65        6.3          310  25.4  33.6   \n",
       "1         43.5        14.8         5.39       12.7          334  27.5  34.0   \n",
       "2         33.5        11.3         4.74       13.2          305  23.8  33.7   \n",
       "3         39.1        13.7         4.98       10.5          366  27.5  35.0   \n",
       "4         30.9         9.9         4.23       22.1          333  23.4  32.0   \n",
       "5         34.3        11.6         4.53        6.6          185  25.6  33.8   \n",
       "6         31.1         8.7         5.06       11.1          416  17.2  28.0   \n",
       "7         40.3        13.3         4.73        8.1          257  28.1  33.0   \n",
       "8         33.6        11.5         4.54       11.4          262  25.3  34.2   \n",
       "9         35.4        11.4         4.80        2.6          183  23.8  32.2   \n",
       "10        33.7        11.5         4.57       13.2          322  25.2  34.1   \n",
       "11        54.0        16.6         7.61       10.0           88  21.8  30.7   \n",
       "12        31.7        10.4         4.91        9.7          348  21.2  32.8   \n",
       "\n",
       "     Mcv  Age  Sex  Status  \n",
       "0   75.5    1    0       1  \n",
       "1   80.7    1    0       1  \n",
       "2   70.7    1    0       1  \n",
       "3   78.5    1    0       1  \n",
       "4   73.0    1    1       1  \n",
       "5   75.7    1    1       1  \n",
       "6   61.5    1    0       1  \n",
       "7   85.2    1    0       1  \n",
       "8   74.0    1    0       1  \n",
       "9   73.8    1    0       1  \n",
       "10  73.7    1    1       1  \n",
       "11  71.0    1    0       0  \n",
       "12  64.6    1    1       0  "
      ]
     },
     "execution_count": 2,
     "metadata": {},
     "output_type": "execute_result"
    }
   ],
   "source": [
    "# Memanggil file dataset yang telah dilakukan proses preprocessing dan disimpan di dalam variabel DataFrame baru\n",
    "data_modelling = pd.read_csv(\"../Dataset/Patient Treatment Data after Preprocessed.csv\")\n",
    "\n",
    "data_modelling.head(13)"
   ]
  },
  {
   "cell_type": "markdown",
   "id": "ffdd8594",
   "metadata": {},
   "source": [
    "## 2. Split the Data into Training and Testing then Create Normalization Data"
   ]
  },
  {
   "cell_type": "markdown",
   "id": "271690ed",
   "metadata": {},
   "source": [
    "Sebelum melakukan pemodelan dengan beberapa Algoritma Machine Learning (Regresi Logistik, Decision Tree, SVM, KNN, Naive Bayes, Ensemble Stacking dan Ensemble Vote), saya akan melakukan sedikit data pre-processing yaitu mlakukan penyeleksian kolom data yang akan dijadikan sebagai variabel independen/variabel x dan variabel dependen/variabel y serta melakukan tahap split validation yang dimana nantinya keutuhan data di dalam variabel DataFrame data_modelling akan terbagi menjadi 2 jenis data yaitu data training dan data testing yang kemudian data-data tersebut akan dinormalisasikan/diskalakan dengan salah satu teknik feature scaling yaitu StandardScaler.\n",
    "\n",
    "Kolom-kolom yang akan menjadi variabel independen/variabel x adalah kolom \"Hematocrit\", \"Hemoglobin\", \"Erythrocyte\", \"Leucocyte\", \"Thrombocyte\", \"Mch\", \"Mchc\", \"Mcv\", \"Age\" dan \"Sex\". Sedangkan kolom yang akan menjadi variabel dependen/variabel y adalah kolom \"Status\" yang merupakan kolom label output dengan 2 data unik yaitu 0 (pasien rawat inap) dan 1 (pasien rawat jalan)."
   ]
  },
  {
   "cell_type": "code",
   "execution_count": 3,
   "id": "4fc05b72",
   "metadata": {},
   "outputs": [],
   "source": [
    "# Melakukan penyeleksian kolom data dari variabel DataFrame data_modelling menjadi variabel x dan variabel y\n",
    "x = data_modelling.drop([\"Status\"], axis=1)\n",
    "\n",
    "y = data_modelling[\"Status\"]"
   ]
  },
  {
   "cell_type": "code",
   "execution_count": 4,
   "id": "340fa769",
   "metadata": {},
   "outputs": [
    {
     "data": {
      "text/html": [
       "<div>\n",
       "<style scoped>\n",
       "    .dataframe tbody tr th:only-of-type {\n",
       "        vertical-align: middle;\n",
       "    }\n",
       "\n",
       "    .dataframe tbody tr th {\n",
       "        vertical-align: top;\n",
       "    }\n",
       "\n",
       "    .dataframe thead th {\n",
       "        text-align: right;\n",
       "    }\n",
       "</style>\n",
       "<table border=\"1\" class=\"dataframe\">\n",
       "  <thead>\n",
       "    <tr style=\"text-align: right;\">\n",
       "      <th></th>\n",
       "      <th>Hematocrit</th>\n",
       "      <th>Hemoglobin</th>\n",
       "      <th>Erythrocyte</th>\n",
       "      <th>Leucocyte</th>\n",
       "      <th>Thrombocyte</th>\n",
       "      <th>Mch</th>\n",
       "      <th>Mchc</th>\n",
       "      <th>Mcv</th>\n",
       "      <th>Age</th>\n",
       "      <th>Sex</th>\n",
       "    </tr>\n",
       "  </thead>\n",
       "  <tbody>\n",
       "    <tr>\n",
       "      <th>0</th>\n",
       "      <td>35.1</td>\n",
       "      <td>11.8</td>\n",
       "      <td>4.65</td>\n",
       "      <td>6.3</td>\n",
       "      <td>310</td>\n",
       "      <td>25.4</td>\n",
       "      <td>33.6</td>\n",
       "      <td>75.5</td>\n",
       "      <td>1</td>\n",
       "      <td>0</td>\n",
       "    </tr>\n",
       "    <tr>\n",
       "      <th>1</th>\n",
       "      <td>43.5</td>\n",
       "      <td>14.8</td>\n",
       "      <td>5.39</td>\n",
       "      <td>12.7</td>\n",
       "      <td>334</td>\n",
       "      <td>27.5</td>\n",
       "      <td>34.0</td>\n",
       "      <td>80.7</td>\n",
       "      <td>1</td>\n",
       "      <td>0</td>\n",
       "    </tr>\n",
       "    <tr>\n",
       "      <th>2</th>\n",
       "      <td>33.5</td>\n",
       "      <td>11.3</td>\n",
       "      <td>4.74</td>\n",
       "      <td>13.2</td>\n",
       "      <td>305</td>\n",
       "      <td>23.8</td>\n",
       "      <td>33.7</td>\n",
       "      <td>70.7</td>\n",
       "      <td>1</td>\n",
       "      <td>0</td>\n",
       "    </tr>\n",
       "    <tr>\n",
       "      <th>3</th>\n",
       "      <td>39.1</td>\n",
       "      <td>13.7</td>\n",
       "      <td>4.98</td>\n",
       "      <td>10.5</td>\n",
       "      <td>366</td>\n",
       "      <td>27.5</td>\n",
       "      <td>35.0</td>\n",
       "      <td>78.5</td>\n",
       "      <td>1</td>\n",
       "      <td>0</td>\n",
       "    </tr>\n",
       "    <tr>\n",
       "      <th>4</th>\n",
       "      <td>30.9</td>\n",
       "      <td>9.9</td>\n",
       "      <td>4.23</td>\n",
       "      <td>22.1</td>\n",
       "      <td>333</td>\n",
       "      <td>23.4</td>\n",
       "      <td>32.0</td>\n",
       "      <td>73.0</td>\n",
       "      <td>1</td>\n",
       "      <td>1</td>\n",
       "    </tr>\n",
       "    <tr>\n",
       "      <th>5</th>\n",
       "      <td>34.3</td>\n",
       "      <td>11.6</td>\n",
       "      <td>4.53</td>\n",
       "      <td>6.6</td>\n",
       "      <td>185</td>\n",
       "      <td>25.6</td>\n",
       "      <td>33.8</td>\n",
       "      <td>75.7</td>\n",
       "      <td>1</td>\n",
       "      <td>1</td>\n",
       "    </tr>\n",
       "    <tr>\n",
       "      <th>6</th>\n",
       "      <td>31.1</td>\n",
       "      <td>8.7</td>\n",
       "      <td>5.06</td>\n",
       "      <td>11.1</td>\n",
       "      <td>416</td>\n",
       "      <td>17.2</td>\n",
       "      <td>28.0</td>\n",
       "      <td>61.5</td>\n",
       "      <td>1</td>\n",
       "      <td>0</td>\n",
       "    </tr>\n",
       "  </tbody>\n",
       "</table>\n",
       "</div>"
      ],
      "text/plain": [
       "   Hematocrit  Hemoglobin  Erythrocyte  Leucocyte  Thrombocyte   Mch  Mchc  \\\n",
       "0        35.1        11.8         4.65        6.3          310  25.4  33.6   \n",
       "1        43.5        14.8         5.39       12.7          334  27.5  34.0   \n",
       "2        33.5        11.3         4.74       13.2          305  23.8  33.7   \n",
       "3        39.1        13.7         4.98       10.5          366  27.5  35.0   \n",
       "4        30.9         9.9         4.23       22.1          333  23.4  32.0   \n",
       "5        34.3        11.6         4.53        6.6          185  25.6  33.8   \n",
       "6        31.1         8.7         5.06       11.1          416  17.2  28.0   \n",
       "\n",
       "    Mcv  Age  Sex  \n",
       "0  75.5    1    0  \n",
       "1  80.7    1    0  \n",
       "2  70.7    1    0  \n",
       "3  78.5    1    0  \n",
       "4  73.0    1    1  \n",
       "5  75.7    1    1  \n",
       "6  61.5    1    0  "
      ]
     },
     "execution_count": 4,
     "metadata": {},
     "output_type": "execute_result"
    }
   ],
   "source": [
    "# Menampilkan data-data yang ada di dalam variabel independen/variabel x sebanyak 7 data teratas\n",
    "x.head(7)"
   ]
  },
  {
   "cell_type": "code",
   "execution_count": 5,
   "id": "e8d98826",
   "metadata": {},
   "outputs": [
    {
     "name": "stdout",
     "output_type": "stream",
     "text": [
      "Jumlah Data yang ada Didalam Variabel Independen (Variabel X) adalah 4412\n"
     ]
    }
   ],
   "source": [
    "# Menampilkan jumlah data yang dimiliki oleh variabel independen (x) sebelum dilakukan proses split\n",
    "print(\"Jumlah Data yang ada Didalam Variabel Independen (Variabel X) adalah\", len(x))"
   ]
  },
  {
   "cell_type": "code",
   "execution_count": 6,
   "id": "6f7cfea0",
   "metadata": {},
   "outputs": [
    {
     "data": {
      "text/plain": [
       "4359    0\n",
       "4360    0\n",
       "4361    0\n",
       "4362    1\n",
       "4363    1\n",
       "4364    1\n",
       "4365    1\n",
       "4366    1\n",
       "4367    0\n",
       "4368    0\n",
       "4369    0\n",
       "4370    0\n",
       "4371    0\n",
       "4372    0\n",
       "4373    1\n",
       "4374    1\n",
       "4375    0\n",
       "4376    0\n",
       "4377    0\n",
       "4378    0\n",
       "4379    0\n",
       "4380    0\n",
       "4381    0\n",
       "4382    1\n",
       "4383    1\n",
       "4384    0\n",
       "4385    0\n",
       "4386    0\n",
       "4387    0\n",
       "4388    0\n",
       "4389    0\n",
       "4390    0\n",
       "4391    0\n",
       "4392    0\n",
       "4393    0\n",
       "4394    1\n",
       "4395    1\n",
       "4396    0\n",
       "4397    1\n",
       "4398    0\n",
       "4399    1\n",
       "4400    1\n",
       "4401    1\n",
       "4402    1\n",
       "4403    0\n",
       "4404    0\n",
       "4405    0\n",
       "4406    0\n",
       "4407    0\n",
       "4408    0\n",
       "4409    1\n",
       "4410    0\n",
       "4411    1\n",
       "Name: Status, dtype: int64"
      ]
     },
     "execution_count": 6,
     "metadata": {},
     "output_type": "execute_result"
    }
   ],
   "source": [
    "# Menampilkan data-data yang ada di dalam variabel dependen/variabel y sebanyak 53 data terbawah\n",
    "y.tail(53)"
   ]
  },
  {
   "cell_type": "code",
   "execution_count": 7,
   "id": "72588d0c",
   "metadata": {},
   "outputs": [
    {
     "name": "stdout",
     "output_type": "stream",
     "text": [
      "Jumlah Data yang ada Didalam Variabel Dependen (Variabel Y) adalah 4412\n"
     ]
    }
   ],
   "source": [
    "# Menampilkan jumlah data yang dimiliki oleh variabel dependen (x) sebelum dilakukan proses split\n",
    "print(\"Jumlah Data yang ada Didalam Variabel Dependen (Variabel Y) adalah\", len(y))"
   ]
  },
  {
   "cell_type": "markdown",
   "id": "f0dba02a",
   "metadata": {},
   "source": [
    "Walaupun keutuhan data dari variabel DataFrame data_modelling telah terkelompok menjadi 2 bagian yang dimana 10 kolom ada di dalam variabel independen (variabel x) dan 1 kolom ada di dalam variabel dependen (variabel y), tetapi jumlah data yang dimiliki tetaplah sama yaitu 4.412. Jumlah data tersebut tidak mengalami penurunan/penambahan sebab pada saat di tahapan data preprocessing, saya tidak mengurangi jumlah data ataupun menambahnya.\n",
    "\n",
    "Selain itu, jumlah data tersebut (4.412) akan terbagi ke dalam 4 kategori variabel yaitu variabel independen (x) yang bertugas untuk melatih (training) Algoritma Machine Learning, variabel independen (x) tetapi bertugas untuk menguji (testing) algoritma. Lalu juga terdapat variabel dependen (y) yang bertujuan untuk melatih (training) Algoritma Machine Learning dengan data-data yang nantinya akan dikenali dan variabel dependen (y) yang bertujuan untuk menguji (testing) algoritma yang sebelumnya sudah dilatih dengan diberikan data-data baru yang belum dikenali."
   ]
  },
  {
   "cell_type": "code",
   "execution_count": 8,
   "id": "3546432b",
   "metadata": {},
   "outputs": [],
   "source": [
    "\"\"\"\n",
    "Membagi variabel independen dan dependen menjadi 2 jenis data yaitu data training (train) dan data testing (test). Proses\n",
    "membagi data di kedua variabel ini memanfaatkan teknik split data dengan metode Split Validation.\n",
    "Split validation merupakan salah satu teknik validasi yang membagi dataset menjadi 2 bagian data yaitu data training\n",
    "dan data testing dengan nilai proporsi yang ditentukan seperti 30 untuk data testing dan 70 untuk data training,\n",
    "20 untuk data testing dan 80 untuk data training, atau 40 untuk data testing dan 60 untuk data training.\n",
    "\"\"\"\n",
    "\n",
    "x_train, x_test, y_train, y_test = train_test_split(x, y, test_size=0.2, random_state=38)"
   ]
  },
  {
   "cell_type": "markdown",
   "id": "37e8f19a",
   "metadata": {},
   "source": [
    "Berikut adalah penjelasan dari proses split validation:\n",
    "\n",
    "1. x: Merupakan sebuah variabel independen atau variabel yang mempengaruhi/menjadi sebab utama dalam perubahan dari variabel dependen. Dalam pengujian kali ini, kolom-kolom yang mempengaruhi variabel y/variabel dependen adalah kolom \"Hematocrit\", \"Hemoglobin\", \"Erythrocyte\", \"Leucocyte\", \"Thrombocyte\", \"Mch\", \"Mchc\", \"Mcv\", \"Age\" dan \"Sex\".\n",
    "2. y: Merupakan sebuah variabel dependen atau variabel yang dipengaruhi variabel independen/variabel x. Berubahnya data yang ada di dalam variabel dependen adalah disebabkan karena berubahnya data di variabel independen/variabel x. Variabel y juga biasa dikenal sebagai label prediksi/label output jika permasalahannya adalah mengklasifikasikan data. Dalam pengujian ini, label outputnya adalah kolom \"Status\".\n",
    "3. test_size: Nilai presentase atau nilai proporsi dalam pembagian data menjadi data training dan data testing. Dalam pengujian ini saya memakai nilai presentase test_size sebesar 0.2 yang dimana ukuran dari data test mencapai 20% dan data train mencapai 80%.\n",
    "4. random_state: Fungsi ini berfungsi untuk menetapkan nilai supaya ketika setiap kali codingan dijalankan maka nilai yang ada di data training dan data testing akan selalu tetap dan nilainya dan tidak berubah-ubah sedangkan jika di proses split validation ini tidak menetapkan nilai random_state maka setiap codingan dijalankan maka nilai baru akan teracak kembali di data training dan data testing sehingga akan memiliki nilai yang berbeda-beda setiap saat codingan dijalankan. Dalam menetapkan nilai random_state tidak ada ketentuan nilai yang pasti (bebas menentukan nilai bilangan bulat) namun dalam pengujian ini saya menetapkan nilai 38 di random_state.\n",
    "\n",
    "\n",
    "Selain keempat penjelasan tersebut terdapat juga variabel baru seperti x_train, x_test, y_train, dan y_test. Berikut adalah penjelasannya:\n",
    "\n",
    "1. x_train: Merupakan data training/data yang akan melatih menggunakan model machine learning. Variabel x_train terdiri dari variabel independen (variabel x).\n",
    "2. x_test: Merupakan data testing atau data yang akan mengetahui performa model yang telah dilatih dengan data training. Variabel x_test terdiri dari variabel independen (variabel x).\n",
    "3. y_train: Merupakan data training atau data yang akan melatih menggunakan model machine learning. Perbedaan dengan x_train yaitu variabel y_train terdiri dari variabel dependen (variabel y).\n",
    "4. y_test: Merupakan data testing atau data yang akan mengetahui performa model yang telah dilatih dengan data training. Sama seperti pada variabel y_train, variabel y_test sudah pasti berbeda dengan variabel x_test karena variabel ini, variabel y_test, terdiri dari variabel dependen (variabel y)."
   ]
  },
  {
   "cell_type": "code",
   "execution_count": 9,
   "id": "970ddc5c",
   "metadata": {},
   "outputs": [
    {
     "name": "stdout",
     "output_type": "stream",
     "text": [
      "Jumlah Data dan Kolom di Data Training setelah Dilakukan Proses Split Validation:  (3529, 10) (3529,)\n",
      "Jumlah Data dan Kolom di Data Testing setelah Dilakukan Proses Split Validation:  (883, 10) (883,)\n"
     ]
    }
   ],
   "source": [
    "\"\"\"\n",
    "Melihat ukuran jumlah data dan kolom yang dimiliki oleh data training\n",
    "(baik data training dari variabel independen atau variabel dependen)\n",
    "serta data testing (baik data testing dari variabel independen ataupun variabel dependen)\n",
    "\"\"\"\n",
    "print(\"Jumlah Data dan Kolom di Data Training setelah Dilakukan Proses Split Validation: \", x_train.shape, y_train.shape)\n",
    "print(\"Jumlah Data dan Kolom di Data Testing setelah Dilakukan Proses Split Validation: \", x_test.shape, y_test.shape)"
   ]
  },
  {
   "cell_type": "markdown",
   "id": "b50dc405",
   "metadata": {},
   "source": [
    "Penjelasan dari hasil diatas:\n",
    "\n",
    "- Total data yang ada di dalam variabel DataFrame data_modelling ataupun variabel independen & dependen sebanyak 4.412 data.\n",
    "\n",
    "- Sedangkan nilai persentase saat melakukan proses split data menjadi data training dan data testing adalah sebesar 20% => 0.2.\n",
    "\n",
    "Jadi nilai yang diberikan ke data testing didapatkan dari perhitungan dari: 4.412 - 20% = 882.4 yang jika dibulatkan menjadi nilai 883.\n",
    "\n",
    "Sedangkan nilai yang diberikan ke data training adalah hasil dari pengurangan antara total data yang ada di dalam data_modelling yaitu 3.529 dengan jumlah data yang ada di dalam data testing sebanyak 883 data yang nantinya bertugas untuk menguji algoritma yang sudah mempelajari data-data dari data training.\n",
    "\n",
    "Jadi jika dikurangkan antara total data yang ada di dalam variabel DataFrame data_modelling (4.412) dengan jumlah data yang saat ini dimiliki oleh data testing (882), maka hasilnya adalah 3.529. Jumlah tersebut (3.529) akan digunakan oleh data training untuk melatih/mengajari beberapa Algoritma Machine Learning yang digunakan di dalam eksperimen ini."
   ]
  },
  {
   "cell_type": "code",
   "execution_count": 10,
   "id": "11847ac8",
   "metadata": {},
   "outputs": [
    {
     "name": "stdout",
     "output_type": "stream",
     "text": [
      "Kumpulan Data untuk Melatih Algoritma Machine Learning (Data Training) dari Variabel Independen: \n",
      "      Hematocrit  Hemoglobin  Erythrocyte  Leucocyte  Thrombocyte   Mch  Mchc  \\\n",
      "1442        40.4        13.5         4.44        4.4          184  30.4  33.4   \n",
      "263         38.6        13.1         4.90       10.0          286  26.7  33.9   \n",
      "2526        32.3        10.5         4.03       13.2          231  26.1  32.5   \n",
      "89          30.1        10.1         3.93        6.5          236  25.7  33.6   \n",
      "233         38.8        12.9         4.89       10.2          239  26.4  33.2   \n",
      "...          ...         ...          ...        ...          ...   ...   ...   \n",
      "862         43.2        14.9         5.82        8.1          342  25.6  34.5   \n",
      "1884        39.1        13.5         4.87       13.5          319  27.7  34.5   \n",
      "2785        39.4        13.7         4.45        6.2          210  30.8  34.8   \n",
      "4149        40.3        13.9         4.33       10.8          285  32.1  34.5   \n",
      "3915        29.8        10.2         3.40       29.3          170  30.0  34.2   \n",
      "\n",
      "       Mcv  Age  Sex  \n",
      "1442  91.0   35    0  \n",
      "263   78.8   11    0  \n",
      "2526  80.1   53    0  \n",
      "89    76.6    3    1  \n",
      "233   79.3    9    0  \n",
      "...    ...  ...  ...  \n",
      "862   74.2   26    1  \n",
      "1884  80.3   43    1  \n",
      "2785  88.5   57    1  \n",
      "4149  93.1   79    1  \n",
      "3915  87.6   74    1  \n",
      "\n",
      "[3529 rows x 10 columns] \n",
      "\n",
      "Kumpulan Data untuk Melatih Algoritma Machine Learning (Data Training) dari Variabel Dependen: \n",
      "1442    1\n",
      "263     1\n",
      "2526    0\n",
      "89      1\n",
      "233     1\n",
      "       ..\n",
      "862     1\n",
      "1884    1\n",
      "2785    0\n",
      "4149    1\n",
      "3915    1\n",
      "Name: Status, Length: 3529, dtype: int64\n"
     ]
    }
   ],
   "source": [
    "# Menampilkan kumpulan data training dari variabel independen (variabel x) dan variabel dependen (variabel y)\n",
    "print(\"Kumpulan Data untuk Melatih Algoritma Machine Learning (Data Training) dari Variabel Independen: \")\n",
    "print(x_train, \"\\n\")\n",
    "\n",
    "print(\"Kumpulan Data untuk Melatih Algoritma Machine Learning (Data Training) dari Variabel Dependen: \")\n",
    "print(y_train)"
   ]
  },
  {
   "cell_type": "code",
   "execution_count": 11,
   "id": "78f13b6d",
   "metadata": {},
   "outputs": [
    {
     "name": "stdout",
     "output_type": "stream",
     "text": [
      "Kumpulan Data Baru untuk Menguji Algoritma Machine Learning (Data Testing) dari Variabel Independen: \n",
      "      Hematocrit  Hemoglobin  Erythrocyte  Leucocyte  Thrombocyte   Mch  Mchc  \\\n",
      "3105        33.4        11.0         3.79        8.2          334  29.0  32.9   \n",
      "3096        42.1        14.0         4.31        6.2          209  32.5  33.3   \n",
      "3315        30.8        10.9         3.45        9.2          121  31.6  35.4   \n",
      "1296        43.9        14.4         5.34        9.1          320  27.0  32.8   \n",
      "2059        28.0         8.7         3.26        1.1           28  26.7  31.1   \n",
      "...          ...         ...          ...        ...          ...   ...   ...   \n",
      "697         38.3        12.5         4.42        8.0          349  28.3  32.6   \n",
      "1547        40.2        13.7         4.62       15.2          292  29.7  34.1   \n",
      "2858        39.1        12.7         4.19       13.0          619  30.3  32.5   \n",
      "3320        30.1        10.0         3.32       10.5          150  30.1  33.2   \n",
      "1232        36.2        12.3         4.33       13.6          340  28.4  34.0   \n",
      "\n",
      "       Mcv  Age  Sex  \n",
      "3105  88.1   61    0  \n",
      "3096  97.7   61    0  \n",
      "3315  89.3   64    1  \n",
      "1296  82.2   32    1  \n",
      "2059  85.9   45    0  \n",
      "...    ...  ...  ...  \n",
      "697   86.7   24    0  \n",
      "1547  87.0   36    0  \n",
      "2858  93.3   58    1  \n",
      "3320  90.7   64    1  \n",
      "1232  83.6   31    0  \n",
      "\n",
      "[883 rows x 10 columns] \n",
      "\n",
      "Kumpulan Data Baru untuk Menguji Algoritma Machine Learning (Data Testing) dari Variabel Dependen: \n",
      "3105    0\n",
      "3096    1\n",
      "3315    0\n",
      "1296    1\n",
      "2059    1\n",
      "       ..\n",
      "697     0\n",
      "1547    1\n",
      "2858    0\n",
      "3320    0\n",
      "1232    1\n",
      "Name: Status, Length: 883, dtype: int64\n"
     ]
    }
   ],
   "source": [
    "# Menampilkan kumpulan data testing dari variabel independen (variabel x) dan variabel dependen (variabel y)\n",
    "print(\"Kumpulan Data Baru untuk Menguji Algoritma Machine Learning (Data Testing) dari Variabel Independen: \")\n",
    "print(x_test, \"\\n\")\n",
    "\n",
    "print(\"Kumpulan Data Baru untuk Menguji Algoritma Machine Learning (Data Testing) dari Variabel Dependen: \")\n",
    "print(y_test)"
   ]
  },
  {
   "cell_type": "code",
   "execution_count": 12,
   "id": "e4c32eae",
   "metadata": {},
   "outputs": [],
   "source": [
    "# Melakukan proses normalisasi/penskalaan nilai data untuk training & testing dengan fungsi StandardScaler\n",
    "\n",
    "standardscaler = StandardScaler()\n",
    "\n",
    "x_train = standardscaler.fit_transform(x_train)\n",
    "x_test = standardscaler.fit_transform(x_test)"
   ]
  },
  {
   "cell_type": "markdown",
   "id": "cecdb952",
   "metadata": {},
   "source": [
    "StandardScaler merupakan sebuah proses penskalaan data dengan mengurangi nilai mean/rata-rata dan kemudian nilai tersebut akan diskalakan ke dalam varians unit. Maksud dari varians unit adalah membagi keseluruhan nilai data dengan standar deviasi. Maka dari itu fungsi dari StandardScaler akan mengubah ukuran distribusi nilai rata-rata menjadi 0 dan nilai standar deviasi menjadi 1.\n",
    "\n",
    "Referensi:\n",
    "\n",
    "- https://towardsdatascience.com/scale-standardize-or-normalize-with-scikit-learn-6ccc7d176a02#:~:text=StandardScaler,-StandardScaler%20is%20the&text=StandardScaler%20standardizes%20a%20feature%20by,of%20scale%20I%20introduced%20earlier.\n",
    "\n",
    "- https://thecleverprogrammer.com/2020/09/22/standardscaler-in-machine-learning/"
   ]
  },
  {
   "cell_type": "code",
   "execution_count": 13,
   "id": "7acf416c",
   "metadata": {},
   "outputs": [
    {
     "name": "stdout",
     "output_type": "stream",
     "text": [
      "-----------------Hasil dari Data Training setelah Proses Normalisasi dengan StandardScaler-----------------\n",
      "[[ 0.37685587  0.37030089 -0.12224026 ...  0.92424944 -0.52794281\n",
      "  -1.0255458 ]\n",
      " [ 0.07385814  0.1777788   0.46731232 ... -0.85251653 -1.63091875\n",
      "  -1.0255458 ]\n",
      " [-0.98663392 -1.07361481 -0.64771103 ... -0.66318901  0.29928914\n",
      "  -1.0255458 ]\n",
      " ...\n",
      " [ 0.2085238   0.46656193 -0.1094239  ...  0.56015806  0.48311846\n",
      "   0.97509053]\n",
      " [ 0.36002266  0.56282298 -0.26322022 ...  1.23008621  1.49417974\n",
      "   0.97509053]\n",
      " [-1.4074641  -1.21800638 -1.45514173 ...  0.42908516  1.26439308\n",
      "   0.97509053]] \n",
      "\n",
      "-----------------Hasil dari Data Testing setelah Proses Normalisasi dengan StandardScaler-----------------\n",
      "[[-0.80987631 -0.85581291 -0.97042487 ...  0.53492574  0.6398396\n",
      "  -1.09385438]\n",
      " [ 0.61545033  0.58166626 -0.31910597 ...  1.9418319   0.6398396\n",
      "  -1.09385438]\n",
      " [-1.23583599 -0.90372888 -1.39628722 ...  0.71078901  0.77874593\n",
      "   0.91419847]\n",
      " ...\n",
      " [ 0.12395839 -0.04124138 -0.46941033 ...  1.29699991  0.50093326\n",
      "   0.91419847]\n",
      " [-1.35051745 -1.33497263 -1.55911694 ...  0.91596283  0.77874593\n",
      "   0.91419847]\n",
      " [-0.35115049 -0.23290527 -0.29405525 ... -0.12456152 -0.74922374\n",
      "  -1.09385438]] \n",
      "\n"
     ]
    }
   ],
   "source": [
    "# Melihat hasil data (baik dari data training atau testing) yang telah dinormalisasikan dengan fungsi StandardScaler\n",
    "print(\"-----------------Hasil dari Data Training setelah Proses Normalisasi dengan StandardScaler-----------------\")\n",
    "print(x_train, \"\\n\")\n",
    "\n",
    "print(\"-----------------Hasil dari Data Testing setelah Proses Normalisasi dengan StandardScaler-----------------\")\n",
    "print(x_test, \"\\n\")"
   ]
  },
  {
   "cell_type": "markdown",
   "id": "5673d69f",
   "metadata": {},
   "source": [
    "## 3. Modelling with Machine Learning Algorithms"
   ]
  },
  {
   "cell_type": "markdown",
   "id": "77e5e916",
   "metadata": {},
   "source": [
    "### 3.1. Logistic Regression"
   ]
  },
  {
   "cell_type": "code",
   "execution_count": 14,
   "id": "479c4b3f",
   "metadata": {},
   "outputs": [
    {
     "name": "stdout",
     "output_type": "stream",
     "text": [
      "Nilai Terbaik dari Parameter penalty adalah:  l2\n",
      "Nilai Terbaik dari Parameter dual adalah:  True\n",
      "Nilai Terbaik dari Parameter tol adalah:  1.2\n",
      "Nilai Terbaik dari Parameter solver adalah:  liblinear\n",
      "Nilai Terbaik dari Parameter max_iter adalah:  67\n",
      "Nilai Terbaik dari Parameter random_state adalah:  23\n"
     ]
    }
   ],
   "source": [
    "\"\"\"\n",
    "Memanggil algoritma Regresi Logistik dari library sklearn yang sebelumnya library dari Algoritma Regresi Logistik\n",
    "telah didefinisikan pada tahap Import Libraries. Nantinya Regresi Logistik akan dilatih menggunakan data training.\n",
    "Selain itu, pada tahapan ini juga akan mencari nilai terbaik dari beberapa\n",
    "hyperparameters (kita sebut sebagai proses tuning hyperparameters) milik Regresi Logistik.\n",
    "Untuk membantu dalam mencari the best value per parameter dengan tuning,\n",
    "saya akan menggunakan sebuah teknik validasi parameter algoritma yang bernama GridSearchCV\n",
    "\"\"\"\n",
    "\n",
    "logistic_regression_algo = LogisticRegression()\n",
    "\n",
    "parameters_logistic_regression = {\n",
    "    \"penalty\": [\"l1\", \"l2\"],\n",
    "    \"dual\": [True, False],\n",
    "    \"tol\": [1.2, 5.3, 7.8, 3.6, 2.6, 3.0, 7.3, 9.9, 2.2, 5.4],\n",
    "    \"solver\": [\"newton-cg\", \"liblinear\"],\n",
    "    \"max_iter\": [30, 29, 67, 45, 77, 38, 53, 66, 79, 84],\n",
    "    \"random_state\": [40, 58, 32, 27, 23, 38, 46, 51, 78, 64]\n",
    "}\n",
    "\n",
    "grid_search_logistic_regression = GridSearchCV(logistic_regression_algo, parameters_logistic_regression)\n",
    "grid_search_logistic_regression.fit(x_train, y_train)\n",
    "\n",
    "# Melihat nilai terbaik dari parameter-parameter yang telah didefinisikan di dalam variabel parameters_logistic_regression\n",
    "print(\"Nilai Terbaik dari Parameter penalty adalah: \", \n",
    "      grid_search_logistic_regression.best_estimator_.get_params()[\"penalty\"])\n",
    "print(\"Nilai Terbaik dari Parameter dual adalah: \",\n",
    "      grid_search_logistic_regression.best_estimator_.get_params()[\"dual\"])\n",
    "print(\"Nilai Terbaik dari Parameter tol adalah: \", \n",
    "      grid_search_logistic_regression.best_estimator_.get_params()[\"tol\"])\n",
    "print(\"Nilai Terbaik dari Parameter solver adalah: \",\n",
    "      grid_search_logistic_regression.best_estimator_.get_params()[\"solver\"])\n",
    "print(\"Nilai Terbaik dari Parameter max_iter adalah: \",\n",
    "      grid_search_logistic_regression.best_estimator_.get_params()[\"max_iter\"])\n",
    "print(\"Nilai Terbaik dari Parameter random_state adalah: \",\n",
    "      grid_search_logistic_regression.best_estimator_.get_params()[\"random_state\"])"
   ]
  },
  {
   "cell_type": "markdown",
   "id": "a300b164",
   "metadata": {},
   "source": [
    "Berdasarkan hasil output diatas terkait pencarian nilai terbaik dari masing-masing parameter di Algoritma Regresi Logistik maka didapatkan beberapa kesimpulan diantaranya:\n",
    "\n",
    "1. Dari kedua argumen pada parameter penalty (l1 dan l2) yang didefinisikan pada variabel parameters_logistic_regression didapatkan sebuah argumen parameter yang paling baik dan cocok untuk digunakan dalam melatih algoritma yaitu penalty l2.\n",
    "2. Dari nilai boolean (True dan False) pada parameter dual, argumen True merupakan argumen yang menghasilkan performa yang sangat bagus dalam melatih Algoritma Regresi Logistik.\n",
    "3. Parameter tol yang didefinisikan di dalam variabel parameters_logistic_regression menghasilkan nilai paling cocok dalam melatih Regresi Logistik yaitu 1.2.\n",
    "4. Dari kedua argumen pada parameter solver yang didefinisikan pada variabel parameters_logistic_regression didapatkan sebuah argumen parameter yang paling baik dan tepat untuk digunakan selama melatih Regresi Logistik. Nilai dari parameter solver tersebut adalah liblinear.\n",
    "5. Parameter max_iter yang didefinisikan di dalam variabel parameters_logistic_regression menghasilkan nilai paling cocok dalam melatih Regresi Logistik yaitu 67.\n",
    "6. Parameter Regresi Logistik terakhir yang didefinisikan di dalam variabel parameters_logistic_regression adalah random_state yang menghasilkan nilai yaitu 23.\n",
    "\n",
    "Pada proses tuning hyperparameters atau dapat dikatakan sebagai proses pencarian nilai terbaik di dalam parameter-parameter dari suatu algoritma yang didefisinikan, Algoritma Regresi Logistik, saya juga menggunakan sebuah fungsi yang bernama GridSearchCV. GridSearchCV merupakan sebuah teknik yang biasa dilakukan ketika sedang mencari atau memvalidasi sebuah nilai terbaik (the best value in each parameters) dengan otomatis untuk setiap parameter-parameter dari Algoritma Machine Learning dengan menggunakan data training sebagai data landasan untuk mencari nilai terbaik dari masing-masing parameter.\n",
    "\n",
    "Berikut adalah beberapa referensi yang terkait:\n",
    "\n",
    "- https://scikit-learn.org/stable/modules/generated/sklearn.linear_model.LogisticRegression.html#sklearn.linear_model.LogisticRegression\n",
    "\n",
    "- https://www.mygreatlearning.com/blog/gridsearchcv/\n",
    "\n",
    "- https://algotech.netlify.app/blog/gridsearchcv/#:~:text=GridSearchCV%20merupakan%20bagian%20dari%20modul,masing%20secara%20otomatis%20dan%20sistematis.\n",
    "\n",
    "- https://medium.com/@adiptamartulandi/tuning-hyperparameters-logistic-regression-menggunakan-grid-search-ucupstory-fb1ab9db082a"
   ]
  },
  {
   "cell_type": "code",
   "execution_count": 15,
   "id": "1ea1dff3",
   "metadata": {},
   "outputs": [
    {
     "name": "stdout",
     "output_type": "stream",
     "text": [
      "----------Hasil Prediksi setelah Proses Pelatihan dengan Algoritma Regresi Logistik menggunakan Data Training----------\n",
      "[1 1 0 1 0 1 1 1 1 1 0 1 1 1 1 1 1 1 1 1 1 1 0 0 1 0 0 1 1 0 1 0 1 1 0 1 1\n",
      " 1 0 1 1 1 1 1 1 1 1 1 1 1 0 1 0 0 0 1 1 1 1 0 1 0 1 1 1 0 1 1 1 1 0 0 1 1\n",
      " 0 1 1 1 0 0 0 1 1 1 1 0 0 1 1 1 1 1 1 0 0 1 0 1 1 1 1 0 1 0 1 1 1 1 0 1 1\n",
      " 0 0 1 1 0 0 1 0 1 1 1 1 0 1 1 0 1 1 0 1 1 1 1 1 0 1 1 0 1 0 1 1 1 1 0 1 1\n",
      " 1 1 1 1 0 1 1 1 1 0 1 1 1 1 1 1 0 1 1 0 1 1 0 0 0 1 1 1 1 1 0 1 1 1 1 1 1\n",
      " 1 1 1 1 0 0 1 0 1 0 1 0 1 0 0 1 0 1 0 0 0 1 0 1 0 1 1 1 1 1 1 1 1 1 0 0 0\n",
      " 1 0 1 1 1 1 1 1 1 1 1 1 1 0 1 1 1 1 1 1 1 1 0 1 1 0 0 1 0 1 0 0 1 1 1 1 1\n",
      " 0 0 0 1 1 1 1 1 1 1 1 1 0 1 0 0 1 1 0 1 1 0 0 1 0 1 0 0 1 1 1 1 1 1 0 1 1\n",
      " 1 1 1 1 1 1 1 1 1 1 1 1 1 1 1 0 1 1 0 1 0 0 1 1 1 1 1 1 0 0 1 1 1 1 1 0 1\n",
      " 0 0 0 0 1 1 1 1 0 1 1 1 1 1 1 0 1 1 1 0 1 1 1 0 0 1 1 1 0 1 1 1 0 1 0 0 1\n",
      " 1 1 1 0 1 1 1 0 1 0 0 1 1 1 1 1 0 1 1 1 1 1 0 0 1 0 1 1 1 0 0 0 1 1 1 1 1\n",
      " 1 1 1 0 1 1 1 0 1 0 1 1 0 0 0 1 1 1 1 1 1 1 1 1 1 1 0 1 1 0 0 0 1 1 1 1 0\n",
      " 0 1 1 1 0 1 0 1 1 1 1 0 1 0 1 1 0 1 1 1 0 1 1 0 0 1 1 1 1 1 1 0 1 0 0 1 1\n",
      " 1 1 1 1 1 0 1 1 1 0 1 0 1 1 1 1 1 0 1 1 1 1 1 1 1 0 0 1 1 0 0 1 0 1 1 1 1\n",
      " 1 1 0 1 1 1 1 1 0 0 1 1 1 1 1 1 0 0 1 1 1 0 1 1 1 0 0 1 0 1 0 0 1 1 1 1 1\n",
      " 1 0 1 1 0 0 1 1 1 1 1 1 0 0 1 1 1 1 0 1 0 0 1 0 1 1 1 1 1 1 1 0 1 0 1 0 1\n",
      " 1 1 1 1 0 1 0 0 1 1 1 1 1 1 1 1 0 1 1 1 0 1 0 1 0 1 1 0 1 0 1 0 1 0 1 0 1\n",
      " 1 0 0 0 1 0 0 1 1 0 1 0 1 0 1 1 1 1 0 1 1 1 0 1 1 1 1 0 0 1 1 1 0 0 1 1 1\n",
      " 1 1 1 0 1 1 0 0 0 0 1 0 1 1 1 1 1 1 1 1 1 1 1 0 0 1 1 0 0 1 1 0 1 0 0 1 1\n",
      " 1 1 1 0 1 1 1 1 0 0 0 0 1 1 0 1 1 1 1 1 0 1 1 1 1 1 1 1 0 1 0 0 1 1 0 1 0\n",
      " 1 0 1 0 1 0 1 1 1 1 1 1 0 1 1 0 0 1 1 1 1 1 0 1 1 1 1 0 0 1 0 0 0 0 0 1 1\n",
      " 0 1 1 1 1 1 1 1 1 1 1 1 0 1 1 0 1 1 1 1 1 1 1 1 1 1 1 0 1 0 1 1 0 1 1 0 1\n",
      " 0 1 0 1 1 1 1 1 0 1 0 1 1 0 0 1 1 1 1 0 1 0 1 1 1 0 1 1 1 1 1 0 1 1 0 0 1\n",
      " 1 1 1 1 1 1 0 1 0 1 1 0 0 0 1 0 1 1 0 1 1 1 0 1 1 1 0 1 1 1 0 1]\n"
     ]
    }
   ],
   "source": [
    "\"\"\"\n",
    "Melihat hasil prediksi dengan data testing setelah dilakukan proses tunning hyperparameter\n",
    "sekaligus melatih Algoritma Regresi Logistik itu sendiri\n",
    "\"\"\"\n",
    "print(\"----------Hasil Prediksi setelah Proses Pelatihan dengan Algoritma Regresi Logistik menggunakan Data Training----------\")\n",
    "pred_logistic_regression = grid_search_logistic_regression.predict(x_test)\n",
    "print(pred_logistic_regression)"
   ]
  },
  {
   "cell_type": "code",
   "execution_count": 16,
   "id": "b302d2ac",
   "metadata": {},
   "outputs": [
    {
     "data": {
      "image/png": "[encoded data removed]",
      "text/plain": [
       "<Figure size 1080x576 with 2 Axes>"
      ]
     },
     "metadata": {
      "needs_background": "light"
     },
     "output_type": "display_data"
    }
   ],
   "source": [
    "# Pengukuran performa pada Algoritma Regresi Logistik menggunakan hasil prediksi dari data testing\n",
    "plt.figure(figsize=(15, 8))\n",
    "\n",
    "sns.heatmap(confusion_matrix(y_test, pred_logistic_regression), annot=True, cmap=\"RdBu\", fmt=\".0f\")\n",
    "plt.xlabel(\"Nilai Prediksi\", fontsize=12)\n",
    "plt.ylabel(\"Nilai Aktual\", fontsize=12)\n",
    "plt.suptitle(\"Grafik Confusion Matrix Regresi Logistik\", fontsize=15)\n",
    "plt.title(\"Pengukuran Performa Klasifikasi yang Tepat/Tidak Tepat dari Algoritma Regresi Logistik\",\n",
    "          fontsize=13, pad=13, loc=\"center\")\n",
    "#plt.savefig(\"../Data Visualization/Confusion Matrix/Confusion Matrix untuk Algoritma Regresi Logistik.png\")\n",
    "plt.show()"
   ]
  },
  {
   "cell_type": "markdown",
   "id": "e85524a9",
   "metadata": {},
   "source": [
    "Berikut adalah penjelasan dari grafik confusion matrix berdasarkan pelatihan sekaligus pengujian dengan Algoritma Regresi Logistik yang telah dilatih dengan data training ataupun data testing. Hasil tersebut merupakan hasil klasifikasi/prediksi yang dilakukan oleh data testing yang dimana data testing berfungsi untuk menguji Regresi Logistik karena sebelumnya algoritma tersebut sudah dilatih dengan data training. Berikut adalah penjelasan dari nilai-nilai pada grafik confusion matrix diatas:\n",
    "\n",
    "1. Nilai 195 menunjukkan bahwa nilai tersebut adalah TRUE NEGATIVE (TN) yang merupakan data negatif yang berhasil di klasifikasikan dengan benar.\n",
    "2. Nilai 466 menunjukkan bahwa nilai ini adalah TRUE POSITIVE (TP) yang merupakan data positif yang berhasil di klasifikasikan dengan benar.\n",
    "3. Nilai 148 menunjukkan bahwa nilai tersebut merupakan FALSE POSITIVE (FP) yang merupakan data negatif namun diklasifikasikan/diprediksi sebagai hasil dari nilai yang positif.\n",
    "4. Terakhir adalah nilai 74 yang menunjukkan bahwa nilai tersebut adalah FALSE NEGATIVE (FN) yang merupakan data positif namun diklasifikasikan/diprediksi sebagai hasil/output dari nilai negatif.\n",
    "\n",
    "\n",
    "Sebagai catatan bahwa nilai 0 dan 1, baik yang ada di sumbu x (Nilai Prediksi) dan sumbu y (Nilai Aktual) adalah nilai negatif dan positif. Nilai negatif ditandai dengan angka 0 sedangkan nilai positif ditandai dengan angka 1. Untuk lebih jelasnya adalah seperti ini:\n",
    "\n",
    "- 0: Nilai Negatif\n",
    "\n",
    "- 1: Nilai Positif\n",
    "\n",
    "Referensi:\n",
    "\n",
    "- https://scikit-learn.org/stable/modules/generated/sklearn.metrics.ConfusionMatrixDisplay.html\n",
    "- https://www.dataschool.io/simple-guide-to-confusion-matrix-terminology/"
   ]
  },
  {
   "cell_type": "code",
   "execution_count": 17,
   "id": "3a0ce874",
   "metadata": {},
   "outputs": [
    {
     "name": "stdout",
     "output_type": "stream",
     "text": [
      "Nilai Akurasi dari Algoritma Regresi Logistik adalah 0.7485843714609286\n"
     ]
    }
   ],
   "source": [
    "# Menampilkan performa berdasarkan nilai akurasi dari Algoritma Regresi Logistik\n",
    "print(\"Nilai Akurasi dari Algoritma Regresi Logistik adalah\", accuracy_score(y_test, pred_logistic_regression))"
   ]
  },
  {
   "cell_type": "markdown",
   "id": "0907275f",
   "metadata": {},
   "source": [
    "Berdasarkan hasil diatas telah diketahui bahwa final performance yang ditunjukkan oleh nilai akurasi dari Algoritma Regresi Logistik setelah algoritma tersebut dilatih dan diuji dengan sekumpulan data training dan data testing menghasilkan performa kinerja yang sudah cukup bagus yaitu 0.7485843714609286 yang jika dibulatkan menjadi 0.75.\n",
    "\n",
    "Itu artinya dengan proporsi persentase data pada saat proses split validation yang sebesar 80:20 dalam mengklasifikasikan nilai data dari kolom \"Status\" menggunakan Regresi Logistik dapat kita ketahui bahwasanya mayoritas pengklasifikasian data dengan data baru (data testing) yang dilakukan oleh Regresi Logistik sudah cukup baik walaupun terdapat beberapa kelasahan dalam memprediksi data baru tersebut.\n",
    "\n",
    "Nilai 0.75 didapatkan melalui perhitungan rumus dari TP + TN / TP + TN + FP + FN. TP merupakan singkatan dari TRUE POSITIVE, TN singkatan dari TRUE NEGATIVE, FP singkatan dari FALSE POSITIVE dan FN singkatan dari FALSE NEGATIVE. Berdasarkan rumus diatas maka didapatkan perhitungan nilai seperti ini:\n",
    "\n",
    "466 (TP) + 195 (TN) / 466 (TP) + 195 (TN) + 148 (FP) + 74 (FN) = 661 / 883 = 0.7485843714609287.\n",
    "\n",
    "Referensi perhitungan dan rumus:\n",
    "\n",
    "- https://www.analyticsvidhya.com/blog/2021/05/in-depth-understanding-of-confusion-matrix/\n",
    "\n",
    "Selanjutnya saya akan menampilkan nilai menggunakan ketiga metrics klasifikasi yang lain yaitu precision, recall, dan f1_score."
   ]
  },
  {
   "cell_type": "code",
   "execution_count": 18,
   "id": "3486c6a2",
   "metadata": {},
   "outputs": [
    {
     "name": "stdout",
     "output_type": "stream",
     "text": [
      "--------------Nilai Presisi dari Algoritma Regresi Logistik--------------\n",
      "0.7457307545040415 \n",
      "\n",
      "--------------Nilai Recall dari Algoritma Regresi Logistik--------------\n",
      "0.7485843714609286 \n",
      "\n",
      "--------------Nilai F1_Score dari Algoritma Regresi Logistik--------------\n",
      "0.7414453933474011\n"
     ]
    }
   ],
   "source": [
    "\"\"\"\n",
    "Menampilkan nilai presisi, recall, dan f1_score metrics secara keseluruhan (bukan didasari oleh dua nilai\n",
    "data dari kolom \"Status\") berdasarkan hasil prediksi yang telah dilakukan oleh Regresi Logistik dengan data testing\n",
    "\"\"\"\n",
    "print(\"--------------Nilai Presisi dari Algoritma Regresi Logistik--------------\")\n",
    "print(precision_score(y_test, pred_logistic_regression, average=\"weighted\"), \"\\n\")\n",
    "\n",
    "print(\"--------------Nilai Recall dari Algoritma Regresi Logistik--------------\")\n",
    "print(recall_score(y_test, pred_logistic_regression, average=\"weighted\"), \"\\n\")\n",
    "\n",
    "print(\"--------------Nilai F1_Score dari Algoritma Regresi Logistik--------------\")\n",
    "print(f1_score(y_test, pred_logistic_regression, average=\"weighted\"))"
   ]
  },
  {
   "cell_type": "markdown",
   "id": "f701a288",
   "metadata": {},
   "source": [
    "Hasil diatas menunjukkan nilai pada ketiga metrics yang biasa digunakan di dalam pengujian klasifikasi machine learning (selain accuracy) yaitu precision, recall, dan f1_score. Ketiga metrics nilai tersebut bukan menunjukkan berdasarkan data negatif/positif seperti yang ditunjukkan pada grafik confusion matrix melainkan perhitungan secara keseluruhan dari final performance pada Algoritma Regresi Logistik dalam mengklasifikasikan data di dalam variabel dependen/variabel y.\n",
    "\n",
    "Selain itu terdapat nilai average=\"weighted\" pada precision_score, recall_score, dan f1_score. Nilai average=\"weighted\" ini merupakan perhitungan metrik untuk setiap label/nilai data dengan menemukan pembobotan di nilai rata-rata dengan jumlah instance yang sebenarnya untuk setiap label data. Untuk melihat penjelasan lebih lengkap mengenai average=\"weighted\" dapat dilihat melalui link berikut dan berfokus kepada Parameters:average:\n",
    "\n",
    "- https://scikit-learn.org/stable/modules/generated/sklearn.metrics.precision_score.html#sklearn.metrics.precision_score\n",
    "\n",
    "- https://scikit-learn.org/stable/modules/generated/sklearn.metrics.recall_score.html#sklearn.metrics.recall_score\n",
    "\n",
    "- https://scikit-learn.org/stable/modules/generated/sklearn.metrics.f1_score.html#sklearn.metrics.f1_score\n",
    "\n",
    "Selanjutnya saya akan menampilkan semua metrics seperti accuracy, precision, recall dan f1-score dengan menggunakan fungsi classification_report dari SKLearn."
   ]
  },
  {
   "cell_type": "code",
   "execution_count": 19,
   "id": "1759af48",
   "metadata": {},
   "outputs": [
    {
     "name": "stdout",
     "output_type": "stream",
     "text": [
      "-------------------Hasil Prediksi untuk Algoritma Regresi Logistik-------------------\n",
      "              precision    recall  f1-score   support\n",
      "\n",
      "           0       0.72      0.57      0.64       343\n",
      "           1       0.76      0.86      0.81       540\n",
      "\n",
      "    accuracy                           0.75       883\n",
      "   macro avg       0.74      0.72      0.72       883\n",
      "weighted avg       0.75      0.75      0.74       883\n",
      "\n"
     ]
    }
   ],
   "source": [
    "\"\"\"\n",
    "Menampilkan final performance (akurasi, presisi, dll) dari Algoritma\n",
    "Regresi Logistik berdasarkan data pengujian (data testing)\n",
    "\"\"\"\n",
    "\n",
    "print(\"-------------------Hasil Prediksi untuk Algoritma Regresi Logistik-------------------\")\n",
    "print(classification_report(y_test, pred_logistic_regression))"
   ]
  },
  {
   "cell_type": "markdown",
   "id": "80815a93",
   "metadata": {},
   "source": [
    "### 3.2. Decision Tree"
   ]
  },
  {
   "cell_type": "code",
   "execution_count": 20,
   "id": "8e09b005",
   "metadata": {},
   "outputs": [
    {
     "name": "stdout",
     "output_type": "stream",
     "text": [
      "Nilai Terbaik dari Parameter criterion adalah:  gini\n",
      "Nilai Terbaik dari Parameter min_samples_split adalah:  20\n",
      "Nilai Terbaik dari Parameter max_depth adalah:  5\n",
      "Nilai Terbaik dari Parameter splitter adalah:  best\n",
      "Nilai Terbaik dari Parameter min_samples_leaf adalah:  17\n",
      "Nilai Terbaik dari Parameter max_leaf_nodes adalah:  26\n"
     ]
    }
   ],
   "source": [
    "\"\"\"\n",
    "Memanggil Algoritma Decision Tree dari library sklearn yang sebelumnya library Decision Tree\n",
    "telah didefinisikan pada tahap Import Libraries. Nantinya Algoritma Decision Tree akan dilatih\n",
    "menggunakan sekumpulan data training. Selain tahapan tersebut, tahap ini juga akan mencari nilai terbaik dari beberapa\n",
    "hyperparameters (kita sebut sebagai proses tuning hyperparameters) yang berasal dari Algoritma Decision Tree.\n",
    "Untuk membantu dalam mencari the best value per parameter dengan tuning,\n",
    "saya akan menggunakan sebuah teknik validasi parameter algoritma yang bernama GridSearchCV\n",
    "\"\"\"\n",
    "\n",
    "decision_tree_algoritm = DecisionTreeClassifier()\n",
    "\n",
    "parameters_DecisionTree = {\n",
    "    \"criterion\": [\"gini\", \"entropy\"],\n",
    "    \"min_samples_split\": [1.3, 2.4, 3.8, 20, 8.7, 37, 23, 19, 31, 11.7],\n",
    "    \"max_depth\": [10, 18, 5, 30, 24, 34, 28, 39, 46, 3],\n",
    "    \"splitter\": [\"best\", \"random\"],\n",
    "    \"min_samples_leaf\": [32.5, 17, 5.8, 9.18, 41, 34, 22, 28.21, 35.5, 48],\n",
    "    \"max_leaf_nodes\": [21.17, 34.70, 26, 14, 4.97, 29, 37, 43.1, 38.15, 53]\n",
    "}\n",
    "\n",
    "grid_search_DecisionTree = GridSearchCV(decision_tree_algoritm, parameters_DecisionTree)\n",
    "grid_search_DecisionTree.fit(x_train, y_train)\n",
    "\n",
    "# Melihat nilai terbaik dari parameter-parameter yang telah didefinisikan di dalam variabel parameters_DecisionTree\n",
    "print(\"Nilai Terbaik dari Parameter criterion adalah: \", \n",
    "      grid_search_DecisionTree.best_estimator_.get_params()[\"criterion\"])\n",
    "print(\"Nilai Terbaik dari Parameter min_samples_split adalah: \",\n",
    "      grid_search_DecisionTree.best_estimator_.get_params()[\"min_samples_split\"])\n",
    "print(\"Nilai Terbaik dari Parameter max_depth adalah: \", \n",
    "      grid_search_DecisionTree.best_estimator_.get_params()[\"max_depth\"])\n",
    "print(\"Nilai Terbaik dari Parameter splitter adalah: \",\n",
    "      grid_search_DecisionTree.best_estimator_.get_params()[\"splitter\"])\n",
    "print(\"Nilai Terbaik dari Parameter min_samples_leaf adalah: \",\n",
    "      grid_search_DecisionTree.best_estimator_.get_params()[\"min_samples_leaf\"])\n",
    "print(\"Nilai Terbaik dari Parameter max_leaf_nodes adalah: \",\n",
    "      grid_search_DecisionTree.best_estimator_.get_params()[\"max_leaf_nodes\"])"
   ]
  },
  {
   "cell_type": "markdown",
   "id": "d1b0c75c",
   "metadata": {},
   "source": [
    "Berdasarkan hasil output diatas terkait pencarian nilai terbaik dari masing-masing parameter di Algoritma Decision Tree maka didapatkan beberapa kesimpulan diantaranya:\n",
    "\n",
    "1. Dari kedua argumen pada parameter criterion (antara nilai gini dan entropy) yang didefinisikan pada variabel parameters_DecisionTree didapatkan sebuah argumen parameter yang paling baik dan cocok untuk digunakan dalam melatih Algoritma Decision Tree. The best value from critrion parameter is gini.\n",
    "2. Parameter min_samples_split yang didefinisikan di dalam variabel parameters_DecisionTree menghasilkan nilai paling cocok dalam melatih Decision Tree yaitu 20.\n",
    "3. Parameter max_depth yang didefinisikan di dalam variabel parameters_DecisionTree menghasilkan nilai paling cocok yaitu 5.\n",
    "4. Dari kedua argumen nilai yang didefinisikan pada parameter splitter  pada variabel parameters_DecisionTree didapatkan sebuah argumen parameter yang paling baik dan tepat untuk digunakan selama melatih Decision Tree. Nilai dari parameter splitter tersebut adalah best.\n",
    "5. Parameter min_samples_leaf yang didefinisikan di dalam variabel parameters_DecisionTree menghasilkan nilai paling cocok dalam melatih algoritma yang digunakan (Decision Tree) yaitu 17.\n",
    "6. Parameter dari Algoritma Decision Tree terakhir yang didefinisikan di dalam variabel parameters_DecisionTree adalah max_leaf_nodes yang menghasilkan nilai yaitu 26.\n",
    "\n",
    "Pada proses tuning hyperparameters atau dapat dikatakan sebagai proses pencarian nilai terbaik di dalam parameter-parameter dari suatu algoritma yang didefisinikan, Algoritma Decision Tree, saya juga menggunakan sebuah fungsi yang bernama GridSearchCV. GridSearchCV merupakan sebuah teknik yang biasa dilakukan ketika sedang mencari atau memvalidasi sebuah nilai terbaik (the best value in each parameters) dengan otomatis untuk setiap parameter-parameter dari Algoritma Machine Learning dengan menggunakan data training sebagai data landasan untuk mencari nilai terbaik dari masing-masing parameter.\n",
    "\n",
    "Berikut adalah beberapa referensi yang terkait:\n",
    "\n",
    "- https://scikit-learn.org/stable/modules/generated/sklearn.tree.DecisionTreeClassifier.html\n",
    "\n",
    "- https://www.mygreatlearning.com/blog/gridsearchcv/\n",
    "\n",
    "- https://medium.com/@adiptamartulandi/tuning-hyperparameters-logistic-regression-menggunakan-grid-search-ucupstory-fb1ab9db082a"
   ]
  },
  {
   "cell_type": "code",
   "execution_count": 21,
   "id": "cf4ea12e",
   "metadata": {
    "scrolled": false
   },
   "outputs": [
    {
     "name": "stdout",
     "output_type": "stream",
     "text": [
      "----------Hasil Prediksi setelah Proses Pelatihan dengan Algoritma Decision Tree menggunakan Data Training----------\n",
      "[1 1 0 1 0 1 1 1 1 1 1 0 1 1 0 1 1 1 1 1 1 0 1 1 1 1 1 1 1 0 1 0 1 1 0 1 1\n",
      " 0 0 1 0 1 0 1 1 1 1 1 1 1 1 1 0 0 0 1 1 1 1 1 1 0 1 0 1 0 1 1 1 1 0 0 1 1\n",
      " 0 1 0 1 0 1 0 1 1 1 1 0 0 1 1 1 1 1 1 0 1 1 0 1 1 1 0 0 0 1 0 1 0 1 0 1 1\n",
      " 0 1 0 1 0 0 1 0 1 1 1 1 0 1 1 0 1 1 0 1 1 1 1 1 0 1 1 0 1 0 1 0 1 1 0 1 0\n",
      " 1 1 1 1 0 1 1 1 1 0 0 1 1 1 1 1 1 1 1 0 0 1 0 0 0 1 0 1 1 1 0 1 1 1 1 1 0\n",
      " 1 1 0 1 0 0 1 0 1 1 1 0 0 1 1 1 0 1 0 1 0 1 0 1 0 1 1 1 1 1 1 0 1 1 0 0 0\n",
      " 1 0 1 1 0 1 1 1 1 1 1 1 1 1 1 1 1 0 1 1 1 1 1 1 1 1 1 1 0 0 0 0 0 1 1 1 1\n",
      " 0 0 1 0 1 0 1 1 1 0 1 1 1 1 0 1 1 1 0 1 1 1 1 1 0 1 0 1 1 1 1 0 0 1 0 1 1\n",
      " 1 0 0 1 1 1 1 1 1 1 1 1 1 0 1 0 1 1 0 1 0 0 1 1 1 1 0 1 1 0 1 1 1 0 1 0 1\n",
      " 0 0 0 0 1 1 1 1 0 1 0 1 1 1 1 0 0 1 1 0 1 1 1 1 0 1 1 1 0 1 1 1 1 1 0 0 1\n",
      " 0 0 1 0 1 1 1 1 1 0 0 1 1 0 1 1 1 1 1 1 1 1 0 0 1 0 1 1 1 1 1 0 1 1 1 1 0\n",
      " 0 1 1 0 1 1 1 0 1 1 1 1 0 0 1 1 1 1 1 0 1 1 1 1 1 0 1 1 0 0 0 1 1 1 1 0 0\n",
      " 0 0 1 1 1 1 0 1 1 1 1 0 1 0 1 1 1 1 1 0 0 1 1 0 0 1 1 1 1 1 1 0 1 1 0 1 0\n",
      " 1 1 1 1 1 0 1 1 1 0 1 0 1 0 1 1 1 0 1 1 1 1 1 1 1 0 0 1 1 0 1 1 0 1 1 0 1\n",
      " 1 1 0 1 1 1 1 1 0 0 1 1 1 1 0 1 0 0 1 1 1 0 1 1 0 0 0 1 0 1 0 0 1 1 1 1 1\n",
      " 1 0 1 1 0 0 1 0 1 1 1 1 0 0 1 1 1 1 0 1 1 0 1 0 0 1 0 1 1 1 0 0 1 0 1 0 1\n",
      " 0 1 1 1 0 1 0 0 1 1 1 1 1 1 1 1 1 1 1 1 0 1 0 1 0 1 1 0 0 0 0 0 1 0 1 0 0\n",
      " 1 0 0 0 0 1 0 1 1 0 1 0 1 0 1 1 0 1 0 1 1 1 0 0 1 1 1 0 1 1 1 0 1 0 1 1 0\n",
      " 1 1 0 0 1 1 0 1 0 0 0 1 1 1 1 1 1 1 1 1 1 1 1 1 0 1 1 0 1 1 1 0 0 0 0 1 1\n",
      " 1 0 1 0 0 1 1 1 1 0 0 0 1 1 0 1 1 1 1 0 1 1 1 1 1 0 1 1 0 0 0 1 0 1 1 1 0\n",
      " 1 0 1 1 0 0 1 1 1 1 1 1 1 1 1 1 1 1 1 1 1 0 0 1 1 1 1 0 0 0 0 0 0 0 0 1 1\n",
      " 0 1 1 1 1 1 0 1 1 1 1 1 1 1 1 0 1 1 1 1 1 0 1 1 1 1 1 0 1 0 0 1 0 1 1 0 1\n",
      " 1 1 0 1 1 1 0 1 0 1 0 1 1 0 1 1 1 1 1 1 1 0 1 1 1 1 1 1 1 1 1 0 1 1 0 0 1\n",
      " 0 1 1 1 1 1 1 0 0 1 1 0 0 1 1 1 0 1 0 1 1 1 0 1 1 1 0 1 0 0 0 0]\n"
     ]
    }
   ],
   "source": [
    "\"\"\"\n",
    "Menguji sekaligus menampilkan hasil prediksi dengan data testing setelah\n",
    "pada tahap sebelumnya telah dilakukan proses tunning hyperparameter\n",
    "\"\"\"\n",
    "print(\"----------Hasil Prediksi setelah Proses Pelatihan dengan Algoritma Decision Tree menggunakan Data Training----------\")\n",
    "pred_DecisionTree = grid_search_DecisionTree.predict(x_test)\n",
    "print(pred_DecisionTree)"
   ]
  },
  {
   "cell_type": "code",
   "execution_count": 22,
   "id": "3097fd95",
   "metadata": {},
   "outputs": [
    {
     "data": {
      "image/png": "[encoded data removed]",
      "text/plain": [
       "<Figure size 1080x576 with 2 Axes>"
      ]
     },
     "metadata": {
      "needs_background": "light"
     },
     "output_type": "display_data"
    }
   ],
   "source": [
    "# Pengukuran performa pada Algoritma Decision Tree menggunakan hasil prediksi dari data testing\n",
    "plt.figure(figsize=(15, 8))\n",
    "\n",
    "sns.heatmap(confusion_matrix(y_test, pred_DecisionTree), annot=True, cmap=\"RdYlBu\", fmt=\".0f\")\n",
    "plt.xlabel(\"Nilai Prediksi\", fontsize=12)\n",
    "plt.ylabel(\"Nilai Aktual\", fontsize=12)\n",
    "plt.suptitle(\"Grafik Confusion Matrix Decision Tree\", fontsize=15)\n",
    "plt.title(\"Pengukuran Performa Klasifikasi yang Tepat/Tidak Tepat dari Algoritma Decision Tree\",\n",
    "          fontsize=13, pad=13, loc=\"center\")\n",
    "#plt.savefig(\"../Data Visualization/Confusion Matrix/Confusion Matrix untuk Algoritma Decision Tree.png\")\n",
    "plt.show()"
   ]
  },
  {
   "cell_type": "markdown",
   "id": "71008f7c",
   "metadata": {},
   "source": [
    "Berikut adalah penjelasan dari grafik confusion matrix berdasarkan pelatihan sekaligus pengujian menggunakan Algoritma Decision Tree yang telah dilatih dengan data training ataupun data testing. Hasil tersebut merupakan hasil klasifikasi/prediksi yang dilakukan oleh data testing yang dimana data testing berfungsi untuk menguji Decision Tree karena sebelumnya algoritma tersebut sudah dilatih dengan data training. Berikut adalah penjelasan dari nilai-nilai pada grafik confusion matrix diatas:\n",
    "\n",
    "1. Nilai 213 menunjukkan bahwa nilai tersebut adalah TRUE NEGATIVE (TN) yang merupakan data negatif yang berhasil di klasifikasikan dengan benar.\n",
    "2. Nilai 461 menunjukkan bahwa nilai ini adalah TRUE POSITIVE (TP) yang merupakan data positif yang berhasil di klasifikasikan dengan benar.\n",
    "3. Nilai 130 menunjukkan bahwa nilai tersebut merupakan FALSE POSITIVE (FP) yang merupakan data negatif namun diklasifikasikan/diprediksi sebagai hasil dari nilai yang positif.\n",
    "4. Terakhir adalah nilai 79 yang menunjukkan bahwa nilai tersebut adalah FALSE NEGATIVE (FN) yang merupakan data positif namun diklasifikasikan/diprediksi sebagai hasil/output dari nilai negatif.\n",
    "\n",
    "\n",
    "Sebagai catatan bahwa nilai 0 dan 1, baik yang ada di sumbu x (Nilai Prediksi) dan sumbu y (Nilai Aktual) adalah nilai negatif dan positif. Nilai negatif ditandai dengan angka 0 sedangkan nilai positif ditandai dengan angka 1. Untuk lebih jelasnya adalah seperti ini:\n",
    "\n",
    "- 0: Nilai Negatif\n",
    "\n",
    "- 1: Nilai Positif\n",
    "\n",
    "Referensi:\n",
    "\n",
    "- https://scikit-learn.org/stable/modules/generated/sklearn.metrics.ConfusionMatrixDisplay.html\n",
    "- https://www.dataschool.io/simple-guide-to-confusion-matrix-terminology/"
   ]
  },
  {
   "cell_type": "code",
   "execution_count": 23,
   "id": "d051e1c9",
   "metadata": {},
   "outputs": [
    {
     "name": "stdout",
     "output_type": "stream",
     "text": [
      "Nilai Akurasi dari Algoritma Regresi Logistik adalah 0.7633069082672707\n"
     ]
    }
   ],
   "source": [
    "# Menampilkan performa berdasarkan nilai akurasi dari Algoritma Regresi Logistik\n",
    "print(\"Nilai Akurasi dari Algoritma Regresi Logistik adalah\", accuracy_score(y_test, pred_DecisionTree))"
   ]
  },
  {
   "cell_type": "markdown",
   "id": "0d663e17",
   "metadata": {},
   "source": [
    "Berdasarkan hasil diatas telah diketahui bahwa final performance yang ditunjukkan oleh nilai akurasi dari Algoritma Decision Tree setelah algoritma tersebut dilatih dan diuji dengan sekumpulan data training dan data testing menghasilkan performa kinerja yang sudah cukup bagus yaitu 0.7633069082672707 yang jika dibulatkan menjadi 0.76.\n",
    "\n",
    "Itu artinya dengan proporsi persentase data pada saat proses split validation yang sebesar 80:20 dalam mengklasifikasikan nilai data dari kolom \"Status\" menggunakan Decision Tree dapat kita ketahui bahwasanya mayoritas pengklasifikasian data dengan data baru (data testing) yang dilakukan oleh Decision Tree sudah cukup baik walaupun sudah pasti dengan akurasi tersebut masih terdapat beberapa kelasahan dalam memprediksi data baru yang diberikan oleh data testing.\n",
    "\n",
    "Nilai 0.7633069082672707 atau 0.76 didapatkan melalui perhitungan rumus dari TP + TN / TP + TN + FP + FN. TP merupakan singkatan dari TRUE POSITIVE, TN singkatan dari TRUE NEGATIVE, FP singkatan dari FALSE POSITIVE dan FN singkatan dari FALSE NEGATIVE. Berdasarkan rumus diatas maka didapatkan perhitungan nilai seperti ini:\n",
    "\n",
    "461 (TP) + 213 (TN) / 461 (TP) + 213 (TN) + 130 (FP) + 79 (FN) = 674 / 883 = 0.7633069082672707.\n",
    "\n",
    "Referensi perhitungan dan rumus:\n",
    "\n",
    "- https://www.analyticsvidhya.com/blog/2021/05/in-depth-understanding-of-confusion-matrix/\n",
    "\n",
    "Selanjutnya saya akan menampilkan nilai menggunakan ketiga metrics klasifikasi yang lain yaitu precision, recall, dan f1_score."
   ]
  },
  {
   "cell_type": "code",
   "execution_count": 24,
   "id": "0a23e358",
   "metadata": {},
   "outputs": [
    {
     "name": "stdout",
     "output_type": "stream",
     "text": [
      "--------------Nilai Presisi dari Algoritma Decision Tree--------------\n",
      "0.7603854234498252 \n",
      "\n",
      "--------------Nilai Recall dari Algoritma Decision Tree--------------\n",
      "0.7633069082672707 \n",
      "\n",
      "--------------Nilai F1_Score dari Algoritma Decision Tree--------------\n",
      "0.7591384917391677\n"
     ]
    }
   ],
   "source": [
    "\"\"\"\n",
    "Menampilkan nilai presisi, recall, dan f1_score metrics secara keseluruhan (bukan didasari oleh dua nilai\n",
    "data dari kolom \"Status\") berdasarkan hasil prediksi yang telah dilakukan oleh Decision Tree dengan data testing\n",
    "\"\"\"\n",
    "print(\"--------------Nilai Presisi dari Algoritma Decision Tree--------------\")\n",
    "print(precision_score(y_test, pred_DecisionTree, average=\"weighted\"), \"\\n\")\n",
    "\n",
    "print(\"--------------Nilai Recall dari Algoritma Decision Tree--------------\")\n",
    "print(recall_score(y_test, pred_DecisionTree, average=\"weighted\"), \"\\n\")\n",
    "\n",
    "print(\"--------------Nilai F1_Score dari Algoritma Decision Tree--------------\")\n",
    "print(f1_score(y_test, pred_DecisionTree, average=\"weighted\"))"
   ]
  },
  {
   "cell_type": "markdown",
   "id": "193786ed",
   "metadata": {},
   "source": [
    "Hasil diatas menunjukkan nilai pada ketiga metrics yang biasa digunakan di dalam pengujian klasifikasi machine learning (selain accuracy) yaitu precision, recall, dan f1_score. Ketiga metrics nilai tersebut bukan menunjukkan berdasarkan data negatif/positif seperti yang ditunjukkan pada grafik confusion matrix melainkan perhitungan secara keseluruhan dari final performance pada Algoritma Decision Tree dalam mengklasifikasikan data di dalam variabel dependen/variabel y.\n",
    "\n",
    "Selain itu terdapat nilai average=\"weighted\" pada precision_score, recall_score, dan f1_score. Nilai average=\"weighted\" ini merupakan perhitungan metrik untuk setiap label/nilai data dengan menemukan pembobotan di nilai rata-rata dengan jumlah instance yang sebenarnya untuk setiap label data. Untuk melihat penjelasan lebih lengkap mengenai average=\"weighted\" dapat dilihat melalui link berikut dan berfokus kepada Parameters:average:\n",
    "\n",
    "- https://scikit-learn.org/stable/modules/generated/sklearn.metrics.precision_score.html#sklearn.metrics.precision_score\n",
    "\n",
    "- https://scikit-learn.org/stable/modules/generated/sklearn.metrics.recall_score.html#sklearn.metrics.recall_score\n",
    "\n",
    "- https://scikit-learn.org/stable/modules/generated/sklearn.metrics.f1_score.html#sklearn.metrics.f1_score\n",
    "\n",
    "Selanjutnya saya akan menampilkan semua metrics seperti accuracy, precision, recall dan f1-score dengan menggunakan fungsi classification_report dari SKLearn."
   ]
  },
  {
   "cell_type": "code",
   "execution_count": 25,
   "id": "37f9e979",
   "metadata": {},
   "outputs": [
    {
     "name": "stdout",
     "output_type": "stream",
     "text": [
      "-------------------Hasil Prediksi untuk Algoritma Decision Tree-------------------\n",
      "              precision    recall  f1-score   support\n",
      "\n",
      "           0       0.73      0.62      0.67       343\n",
      "           1       0.78      0.85      0.82       540\n",
      "\n",
      "    accuracy                           0.76       883\n",
      "   macro avg       0.75      0.74      0.74       883\n",
      "weighted avg       0.76      0.76      0.76       883\n",
      "\n"
     ]
    }
   ],
   "source": [
    "\"\"\"\n",
    "Menampilkan final performance (akurasi, presisi, dll) dari Algoritma\n",
    "Decision Tree berdasarkan data pengujian (data testing)\n",
    "\"\"\"\n",
    "\n",
    "print(\"-------------------Hasil Prediksi untuk Algoritma Decision Tree-------------------\")\n",
    "print(classification_report(y_test, pred_DecisionTree))"
   ]
  },
  {
   "cell_type": "markdown",
   "id": "07ef6d53",
   "metadata": {},
   "source": [
    "### 3.3. Support Vector Machine (SVM)"
   ]
  },
  {
   "cell_type": "code",
   "execution_count": 27,
   "id": "15e20740",
   "metadata": {
    "scrolled": false
   },
   "outputs": [
    {
     "name": "stdout",
     "output_type": "stream",
     "text": [
      "Nilai Terbaik dari Parameter kernel adalah:  linear\n",
      "Nilai Terbaik dari Parameter C adalah:  11.34\n",
      "Nilai Terbaik dari Parameter tol adalah:  10.3\n",
      "Nilai Terbaik dari Parameter gamma adalah:  scale\n",
      "Nilai Terbaik dari Parameter probability adalah:  True\n",
      "Nilai Terbaik dari Parameter random_state adalah:  22\n"
     ]
    }
   ],
   "source": [
    "\"\"\"\n",
    "Memanggil Algoritma Support Vector Machine (SVM) dari library sklearn yang sebelumnya library untuk SVM\n",
    "telah didefinisikan pada tahap Import Libraries. Nantinya Algoritma SVM akan dilatih\n",
    "menggunakan sekumpulan data training. Selain tahapan tersebut, tahap ini juga akan mencari nilai terbaik dari beberapa\n",
    "hyperparameters (kita sebut sebagai proses tuning hyperparameters) yang berasal dari Algoritma Support Vector Machine.\n",
    "Untuk membantu dalam mencari the best value per parameter dengan tuning,\n",
    "saya akan menggunakan sebuah teknik validasi parameter algoritma yang bernama GridSearchCV\n",
    "\"\"\"\n",
    "\n",
    "SupportVectorMachine_algoritm = SVC()\n",
    "\n",
    "parameters_SupportVectorMachine = {\n",
    "    \"kernel\": [\"linear\", \"sigmoid\", \"poly\", \"rbf\"],\n",
    "    \"C\": [11.34, 2.4, 13.8, 20.2, 8.7, 27.57, 34.10, 6.9, 37.8, 41.1],\n",
    "    \"tol\": [10.3, 18.18, 5.68, 30.24, 24.9, 34.12, 47.10, 44.79, 15.5, 27.7],\n",
    "    \"gamma\": [\"scale\", \"auto\"],\n",
    "    \"probability\": [True],\n",
    "    \"random_state\": [22, 28, 36, 48, 30, 25, 43, 57, 51, 60]\n",
    "}\n",
    "\n",
    "grid_search_SVM = GridSearchCV(SupportVectorMachine_algoritm, parameters_SupportVectorMachine)\n",
    "grid_search_SVM.fit(x_train, y_train)\n",
    "\n",
    "# Melihat nilai terbaik dari parameter-parameter yang telah didefinisikan di dalam variabel parameters_SupportVectorMachine\n",
    "print(\"Nilai Terbaik dari Parameter kernel adalah: \", \n",
    "      grid_search_SVM.best_estimator_.get_params()[\"kernel\"])\n",
    "print(\"Nilai Terbaik dari Parameter C adalah: \",\n",
    "      grid_search_SVM.best_estimator_.get_params()[\"C\"])\n",
    "print(\"Nilai Terbaik dari Parameter tol adalah: \", \n",
    "      grid_search_SVM.best_estimator_.get_params()[\"tol\"])\n",
    "print(\"Nilai Terbaik dari Parameter gamma adalah: \",\n",
    "      grid_search_SVM.best_estimator_.get_params()[\"gamma\"])\n",
    "print(\"Nilai Terbaik dari Parameter probability adalah: \",\n",
    "      grid_search_SVM.best_estimator_.get_params()[\"probability\"])\n",
    "print(\"Nilai Terbaik dari Parameter random_state adalah: \",\n",
    "      grid_search_SVM.best_estimator_.get_params()[\"random_state\"])"
   ]
  },
  {
   "cell_type": "markdown",
   "id": "154d12d9",
   "metadata": {},
   "source": [
    "Berdasarkan hasil output diatas terkait pencarian nilai terbaik dari masing-masing parameter di Algoritma Support Vector Machine (SVM) maka didapatkan beberapa kesimpulan diantaranya:\n",
    "\n",
    "1. Dari keempat argumen/nilai yang ada di dalam parameter kernel (linear, sigmoid, poly dan rbf) yang didefinisikan pada variabel parameters_SupportVectorMachine didapatkan sebuah argumen parameter yang paling baik dan cocok untuk digunakan dalam melatih Algoritma SVM. The best value from kernel parameter is linear.\n",
    "2. Parameter C yang didefinisikan di dalam variabel parameters_SupportVectorMachine menghasilkan nilai paling cocok dalam melatih Algoritma Support Vector Machine yaitu 11.34.\n",
    "3. Parameter tol yang didefinisikan di dalam variabel parameters_SupportVectorMachine menghasilkan nilai terbaik yaitu 10.3.\n",
    "4. Dari kedua nilai yang didefinisikan pada parameter gamma didapatkan sebuah nilai terbaik dalam melatih Algoritma SVM. Nilai terbaik tersebut adalah scale.\n",
    "5. Parameter probability yang didefinisikan di dalam variabel parameters_SupportVectorMachine menghasilkan hanya memiliki nilai yaitu True. Nilai boolean True yang ada di dalam parameter probability pada Algoritma Support Vector Machine juga merupakan nilai default.\n",
    "6. Parameter terakhir dari Algoritma SVM yang didefinisikan di dalam variabel parameters_SupportVectorMachine adalah random_state yang memiliki the best value yaitu 22.\n",
    "\n",
    "Pada proses tuning hyperparameters atau dapat dikatakan sebagai proses pencarian nilai terbaik di dalam parameter-parameter dari suatu algoritma yang didefisinikan, Algoritma Support Vector Machine, saya juga menggunakan sebuah fungsi yang bernama GridSearchCV. GridSearchCV merupakan sebuah teknik yang biasa dilakukan ketika sedang mencari atau memvalidasi sebuah nilai terbaik (the best value in each parameters) dengan otomatis untuk setiap parameter-parameter dari Algoritma Machine Learning dengan menggunakan data training sebagai data landasan untuk mencari nilai terbaik dari masing-masing parameter.\n",
    "\n",
    "Berikut adalah beberapa referensi yang terkait:\n",
    "\n",
    "- https://scikit-learn.org/stable/modules/generated/sklearn.svm.SVC.html\n",
    "\n",
    "- https://www.mygreatlearning.com/blog/gridsearchcv/\n",
    "\n",
    "- https://medium.com/@adiptamartulandi/tuning-hyperparameters-logistic-regression-menggunakan-grid-search-ucupstory-fb1ab9db082a"
   ]
  },
  {
   "cell_type": "code",
   "execution_count": 28,
   "id": "83f94364",
   "metadata": {
    "scrolled": false
   },
   "outputs": [
    {
     "name": "stdout",
     "output_type": "stream",
     "text": [
      "----------Hasil Prediksi setelah Proses Pelatihan dengan Algoritma SVM menggunakan Data Training----------\n",
      "[1 1 1 1 1 1 1 1 1 1 1 1 1 1 1 1 1 1 1 1 1 1 1 1 1 1 1 1 1 1 1 1 1 1 1 1 1\n",
      " 1 1 1 1 1 1 1 1 1 1 1 1 1 1 1 1 1 1 1 1 1 1 1 1 1 1 1 1 1 1 1 1 1 1 1 1 1\n",
      " 1 1 1 1 1 1 1 1 1 1 1 1 1 1 1 1 1 1 1 1 1 1 1 1 1 1 1 1 1 1 1 1 1 1 1 1 1\n",
      " 1 1 1 1 1 1 1 1 1 1 1 1 1 1 1 1 1 1 1 1 1 1 1 1 1 1 1 1 1 1 1 1 1 1 1 1 1\n",
      " 1 1 1 1 1 1 1 1 1 1 1 1 1 1 1 1 1 1 1 1 1 1 1 1 1 1 1 1 1 1 1 1 1 1 1 1 1\n",
      " 1 1 1 1 1 1 1 1 1 1 1 1 1 1 1 1 1 1 1 1 1 1 1 1 1 1 1 1 1 1 1 1 1 1 1 1 1\n",
      " 1 1 1 1 1 1 1 1 1 1 1 1 1 1 1 1 1 1 1 1 1 1 1 1 1 1 1 1 1 1 1 1 1 1 1 1 1\n",
      " 1 1 1 1 1 1 1 1 1 1 1 1 1 1 1 1 1 1 1 1 1 1 1 1 1 1 1 1 1 1 1 1 1 1 1 1 1\n",
      " 1 1 1 1 1 1 1 1 1 1 1 1 1 1 1 1 1 1 1 1 1 1 1 1 1 1 1 1 1 1 1 1 1 1 1 1 1\n",
      " 1 1 1 1 1 1 1 1 1 1 1 1 1 1 1 1 1 1 1 1 1 1 1 1 1 1 1 1 1 1 1 1 1 1 1 1 1\n",
      " 1 1 1 1 1 1 1 1 1 1 1 1 1 1 1 1 1 1 1 1 1 1 1 1 1 1 1 1 1 1 1 1 1 1 1 1 1\n",
      " 1 1 1 1 1 1 1 1 1 1 1 1 1 1 1 1 1 1 1 1 1 1 1 1 1 1 1 1 1 1 1 1 1 1 1 1 1\n",
      " 1 1 1 1 1 1 1 1 1 1 1 1 1 1 1 1 1 1 1 1 1 1 1 1 1 1 1 1 1 1 1 1 1 1 1 1 1\n",
      " 1 1 1 1 1 1 1 1 1 1 1 1 1 1 1 1 1 1 1 1 1 1 1 1 1 1 1 1 1 1 1 1 1 1 1 1 1\n",
      " 1 1 1 1 1 1 1 1 1 1 1 1 1 1 1 1 1 1 1 1 1 1 1 1 1 1 1 1 1 1 1 1 1 1 1 1 1\n",
      " 1 1 1 1 1 1 1 1 1 1 1 1 1 1 1 1 1 1 1 1 1 1 1 1 1 1 1 1 1 1 1 1 1 1 1 1 1\n",
      " 1 1 1 1 1 1 1 1 1 1 1 1 1 1 1 1 1 1 1 1 1 1 1 1 1 1 1 1 1 1 1 1 1 1 1 1 1\n",
      " 1 1 1 1 1 1 1 1 1 1 1 1 1 1 1 1 1 1 1 1 1 1 1 1 1 1 1 1 1 1 1 1 1 1 1 1 1\n",
      " 1 1 1 1 1 1 1 1 1 1 1 1 1 1 1 1 1 1 1 1 1 1 1 1 1 1 1 1 1 1 1 1 1 1 1 1 1\n",
      " 1 1 1 1 1 1 1 1 1 1 1 1 1 1 1 1 1 1 1 1 1 1 1 1 1 1 1 1 1 1 1 1 1 1 1 1 1\n",
      " 1 1 1 1 1 1 1 1 1 1 1 1 1 1 1 1 1 1 1 1 1 1 1 1 1 1 1 1 1 1 1 1 1 1 1 1 1\n",
      " 1 1 1 1 1 1 1 1 1 1 1 1 1 1 1 1 1 1 1 1 1 1 1 1 1 1 1 1 1 1 1 1 1 1 1 1 1\n",
      " 1 1 1 1 1 1 1 1 1 1 1 1 1 1 1 1 1 1 1 1 1 1 1 1 1 1 1 1 1 1 1 1 1 1 1 1 1\n",
      " 1 1 1 1 1 1 1 1 1 1 1 1 1 1 1 1 1 1 1 1 1 1 1 1 1 1 1 1 1 1 1 1]\n"
     ]
    }
   ],
   "source": [
    "\"\"\"\n",
    "Menguji sekaligus menampilkan hasil prediksi dengan data testing setelah\n",
    "pada tahap sebelumnya telah dilakukan proses tunning hyperparameter\n",
    "\"\"\"\n",
    "print(\"----------Hasil Prediksi setelah Proses Pelatihan dengan Algoritma SVM menggunakan Data Training----------\")\n",
    "pred_SVM = grid_search_SVM.predict(x_test)\n",
    "print(pred_SVM)"
   ]
  },
  {
   "cell_type": "code",
   "execution_count": 29,
   "id": "f2bf24f8",
   "metadata": {},
   "outputs": [
    {
     "data": {
      "image/png": "[encoded data removed]",
      "text/plain": [
       "<Figure size 1080x576 with 2 Axes>"
      ]
     },
     "metadata": {
      "needs_background": "light"
     },
     "output_type": "display_data"
    }
   ],
   "source": [
    "# Pengukuran performa pada Algoritma Support Vector Machine (SVM) menggunakan hasil prediksi dari data testing\n",
    "plt.figure(figsize=(15, 8))\n",
    "\n",
    "sns.heatmap(confusion_matrix(y_test, pred_SVM), annot=True, cmap=\"RdGy\", fmt=\".0f\")\n",
    "plt.xlabel(\"Nilai Prediksi\", fontsize=12)\n",
    "plt.ylabel(\"Nilai Aktual\", fontsize=12)\n",
    "plt.suptitle(\"Grafik Confusion Matrix Support Vector Machine (SVM)\", fontsize=15)\n",
    "plt.title(\"Pengukuran Performa Klasifikasi yang Tepat/Tidak Tepat dari Algoritma SVM\",\n",
    "          fontsize=13, pad=13, loc=\"center\")\n",
    "plt.savefig(\"../Data Visualization/Confusion Matrix/Confusion Matrix untuk Algoritma SVM.png\")\n",
    "plt.show()"
   ]
  },
  {
   "cell_type": "markdown",
   "id": "2521ae62",
   "metadata": {},
   "source": [
    "Berikut adalah penjelasan dari grafik confusion matrix berdasarkan pelatihan sekaligus pengujian menggunakan Algoritma Decision Tree yang telah dilatih dengan data training ataupun data testing. Hasil tersebut merupakan hasil klasifikasi/prediksi yang dilakukan oleh data testing yang dimana data testing berfungsi untuk menguji Decision Tree karena sebelumnya algoritma tersebut sudah dilatih dengan data training. Berikut adalah penjelasan dari nilai-nilai pada grafik confusion matrix diatas:\n",
    "\n",
    "1. Nilai 213 menunjukkan bahwa nilai tersebut adalah TRUE NEGATIVE (TN) yang merupakan data negatif yang berhasil di klasifikasikan dengan benar.\n",
    "2. Nilai 461 menunjukkan bahwa nilai ini adalah TRUE POSITIVE (TP) yang merupakan data positif yang berhasil di klasifikasikan dengan benar.\n",
    "3. Nilai 130 menunjukkan bahwa nilai tersebut merupakan FALSE POSITIVE (FP) yang merupakan data negatif namun diklasifikasikan/diprediksi sebagai hasil dari nilai yang positif.\n",
    "4. Terakhir adalah nilai 79 yang menunjukkan bahwa nilai tersebut adalah FALSE NEGATIVE (FN) yang merupakan data positif namun diklasifikasikan/diprediksi sebagai hasil/output dari nilai negatif.\n",
    "\n",
    "\n",
    "Sebagai catatan bahwa nilai 0 dan 1, baik yang ada di sumbu x (Nilai Prediksi) dan sumbu y (Nilai Aktual) adalah nilai negatif dan positif. Nilai negatif ditandai dengan angka 0 sedangkan nilai positif ditandai dengan angka 1. Untuk lebih jelasnya adalah seperti ini:\n",
    "\n",
    "- 0: Nilai Negatif\n",
    "\n",
    "- 1: Nilai Positif\n",
    "\n",
    "Referensi:\n",
    "\n",
    "- https://scikit-learn.org/stable/modules/generated/sklearn.metrics.ConfusionMatrixDisplay.html\n",
    "- https://www.dataschool.io/simple-guide-to-confusion-matrix-terminology/"
   ]
  },
  {
   "cell_type": "code",
   "execution_count": 31,
   "id": "85ee5cd5",
   "metadata": {},
   "outputs": [
    {
     "name": "stdout",
     "output_type": "stream",
     "text": [
      "Nilai Akurasi dari Algoritma Regresi Logistik adalah 0.6115515288788222\n"
     ]
    }
   ],
   "source": [
    "# Menampilkan performa berdasarkan nilai akurasi dari Algoritma Support Vector Machine (SVM)\n",
    "print(\"Nilai Akurasi dari Algoritma Regresi Logistik adalah\", accuracy_score(y_test, pred_SVM))"
   ]
  },
  {
   "cell_type": "markdown",
   "id": "d701456f",
   "metadata": {},
   "source": [
    "Berdasarkan hasil diatas telah diketahui bahwa final performance yang ditunjukkan oleh nilai akurasi dari Algoritma Support Vector Machine (SVM) setelah algoritma tersebut dilatih dan diuji dengan sekumpulan data training dan data testing menghasilkan performa kinerja yang sudah cukup bagus yaitu 0.7633069082672707 yang jika dibulatkan menjadi 0.76.\n",
    "\n",
    "Itu artinya dengan proporsi persentase data pada saat proses split validation yang sebesar 80:20 dalam mengklasifikasikan nilai data dari kolom \"Status\" menggunakan SVM dapat kita ketahui bahwasanya mayoritas pengklasifikasian data dengan data baru (data testing) yang dilakukan oleh SVM sudah cukup baik walaupun sudah pasti dengan akurasi tersebut masih terdapat beberapa kelasahan dalam memprediksi data baru yang diberikan oleh data testing.\n",
    "\n",
    "Nilai 0.7633069082672707 atau 0.76 didapatkan melalui perhitungan rumus dari TP + TN / TP + TN + FP + FN. TP merupakan singkatan dari TRUE POSITIVE, TN singkatan dari TRUE NEGATIVE, FP singkatan dari FALSE POSITIVE dan FN singkatan dari FALSE NEGATIVE. Berdasarkan rumus diatas maka didapatkan perhitungan nilai seperti ini:\n",
    "\n",
    "461 (TP) + 213 (TN) / 461 (TP) + 213 (TN) + 130 (FP) + 79 (FN) = 674 / 883 = 0.7633069082672707.\n",
    "\n",
    "Referensi perhitungan dan rumus:\n",
    "\n",
    "- https://www.analyticsvidhya.com/blog/2021/05/in-depth-understanding-of-confusion-matrix/\n",
    "\n",
    "Selanjutnya saya akan menampilkan nilai menggunakan ketiga metrics klasifikasi yang lain yaitu precision, recall, dan f1_score."
   ]
  },
  {
   "cell_type": "code",
   "execution_count": 32,
   "id": "eaab99c5",
   "metadata": {},
   "outputs": [
    {
     "name": "stdout",
     "output_type": "stream",
     "text": [
      "--------------Nilai Presisi dari Algoritma Support Vector Machine (SVM)--------------\n",
      "0.3739952724740249 \n",
      "\n",
      "--------------Nilai Recall dari Algoritma Support Vector Machine (SVM)--------------\n",
      "0.6115515288788222 \n",
      "\n",
      "--------------Nilai F1_Score dari Algoritma Support Vector Machine (SVM)--------------\n",
      "0.4641431139768995\n"
     ]
    }
   ],
   "source": [
    "\"\"\"\n",
    "Menampilkan nilai presisi, recall, dan f1_score metrics secara keseluruhan (bukan didasari oleh dua nilai\n",
    "data dari kolom \"Status\") berdasarkan hasil prediksi yang telah dilakukan oleh Support Vector Machine (SVM) dengan data testing\n",
    "\"\"\"\n",
    "print(\"--------------Nilai Presisi dari Algoritma Support Vector Machine (SVM)--------------\")\n",
    "print(precision_score(y_test, pred_SVM, average=\"weighted\"), \"\\n\")\n",
    "\n",
    "print(\"--------------Nilai Recall dari Algoritma Support Vector Machine (SVM)--------------\")\n",
    "print(recall_score(y_test, pred_SVM, average=\"weighted\"), \"\\n\")\n",
    "\n",
    "print(\"--------------Nilai F1_Score dari Algoritma Support Vector Machine (SVM)--------------\")\n",
    "print(f1_score(y_test, pred_SVM, average=\"weighted\"))"
   ]
  },
  {
   "cell_type": "markdown",
   "id": "4d6191e0",
   "metadata": {},
   "source": [
    "Hasil diatas menunjukkan nilai pada ketiga metrics yang biasa digunakan di dalam pengujian klasifikasi machine learning (selain accuracy) yaitu precision, recall, dan f1_score. Ketiga metrics nilai tersebut bukan menunjukkan berdasarkan data negatif/positif seperti yang ditunjukkan pada grafik confusion matrix melainkan perhitungan secara keseluruhan dari final performance pada Algoritma Support Vector Machine (SVM) dalam mengklasifikasikan data di dalam variabel dependen/variabel y.\n",
    "\n",
    "Selain itu terdapat nilai average=\"weighted\" pada precision_score, recall_score, dan f1_score. Nilai average=\"weighted\" ini merupakan perhitungan metrik untuk setiap label/nilai data dengan menemukan pembobotan di nilai rata-rata dengan jumlah instance yang sebenarnya untuk setiap label data. Untuk melihat penjelasan lebih lengkap mengenai average=\"weighted\" dapat dilihat melalui link berikut dan berfokus kepada Parameters:average:\n",
    "\n",
    "- https://scikit-learn.org/stable/modules/generated/sklearn.metrics.precision_score.html#sklearn.metrics.precision_score\n",
    "\n",
    "- https://scikit-learn.org/stable/modules/generated/sklearn.metrics.recall_score.html#sklearn.metrics.recall_score\n",
    "\n",
    "- https://scikit-learn.org/stable/modules/generated/sklearn.metrics.f1_score.html#sklearn.metrics.f1_score\n",
    "\n",
    "Selanjutnya saya akan menampilkan semua metrics seperti accuracy, precision, recall dan f1-score dengan menggunakan fungsi classification_report dari SKLearn."
   ]
  },
  {
   "cell_type": "code",
   "execution_count": 33,
   "id": "ad2deacc",
   "metadata": {},
   "outputs": [
    {
     "name": "stdout",
     "output_type": "stream",
     "text": [
      "-------------------Hasil Prediksi untuk Algoritma Support Vector Machine (SVM)-------------------\n",
      "              precision    recall  f1-score   support\n",
      "\n",
      "           0       0.00      0.00      0.00       343\n",
      "           1       0.61      1.00      0.76       540\n",
      "\n",
      "    accuracy                           0.61       883\n",
      "   macro avg       0.31      0.50      0.38       883\n",
      "weighted avg       0.37      0.61      0.46       883\n",
      "\n"
     ]
    }
   ],
   "source": [
    "\"\"\"\n",
    "Menampilkan final performance (akurasi, presisi, dll) dari Algoritma\n",
    "Support Vector Machine (SVM) berdasarkan data pengujian (data testing)\n",
    "\"\"\"\n",
    "\n",
    "print(\"-------------------Hasil Prediksi untuk Algoritma Support Vector Machine (SVM)-------------------\")\n",
    "print(classification_report(y_test, pred_SVM))"
   ]
  },
  {
   "cell_type": "code",
   "execution_count": null,
   "id": "8d433852",
   "metadata": {},
   "outputs": [],
   "source": []
  },
  {
   "cell_type": "code",
   "execution_count": null,
   "id": "6d6378d4",
   "metadata": {},
   "outputs": [],
   "source": []
  },
  {
   "cell_type": "code",
   "execution_count": null,
   "id": "5fdd0dbd",
   "metadata": {},
   "outputs": [],
   "source": []
  }
 ],
 "metadata": {
  "kernelspec": {
   "display_name": "Python 3 (ipykernel)",
   "language": "python",
   "name": "python3"
  },
  "language_info": {
   "codemirror_mode": {
    "name": "ipython",
    "version": 3
   },
   "file_extension": ".py",
   "mimetype": "text/x-python",
   "name": "python",
   "nbconvert_exporter": "python",
   "pygments_lexer": "ipython3",
   "version": "3.9.12"
  }
 },
 "nbformat": 4,
 "nbformat_minor": 5
}
